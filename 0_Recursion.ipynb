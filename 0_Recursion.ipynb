{
 "cells": [
  {
   "cell_type": "markdown",
   "id": "fa25003b",
   "metadata": {},
   "source": [
    "## Recursion"
   ]
  },
  {
   "cell_type": "markdown",
   "id": "fd8a36be",
   "metadata": {},
   "source": [
    "#### find factorial using loop"
   ]
  },
  {
   "cell_type": "code",
   "execution_count": null,
   "id": "2d59133f",
   "metadata": {},
   "outputs": [],
   "source": [
    "# how to find factorial using loop \n",
    "def factorial(num):\n",
    "    a = 1\n",
    "    for i in range(1,num+1):\n",
    "        a = a*i\n",
    "    return a"
   ]
  },
  {
   "cell_type": "code",
   "execution_count": 26,
   "id": "d343d0cf",
   "metadata": {},
   "outputs": [
    {
     "data": {
      "text/plain": [
       "120"
      ]
     },
     "execution_count": 26,
     "metadata": {},
     "output_type": "execute_result"
    }
   ],
   "source": [
    "factorial(5)"
   ]
  },
  {
   "cell_type": "markdown",
   "id": "6c7911d1",
   "metadata": {},
   "source": [
    "#### how to find factorial using recursion "
   ]
  },
  {
   "cell_type": "code",
   "execution_count": null,
   "id": "d1d87520",
   "metadata": {},
   "outputs": [],
   "source": [
    "# how to find factorial using recursion \n",
    "def factorial(num): \n",
    "\n",
    "    if num == 1: # this is base case\n",
    "        return 1\n",
    "    \n",
    "    return num*factorial(num-1)"
   ]
  },
  {
   "cell_type": "code",
   "execution_count": 8,
   "id": "f5410d19",
   "metadata": {},
   "outputs": [
    {
     "data": {
      "text/plain": [
       "120"
      ]
     },
     "execution_count": 8,
     "metadata": {},
     "output_type": "execute_result"
    }
   ],
   "source": [
    "factorial(5)"
   ]
  },
  {
   "cell_type": "code",
   "execution_count": 5,
   "id": "825a465e",
   "metadata": {},
   "outputs": [
    {
     "data": {
      "text/plain": [
       "120"
      ]
     },
     "execution_count": 5,
     "metadata": {},
     "output_type": "execute_result"
    }
   ],
   "source": [
    "# /if we will expand the code i will something look like this \n",
    "def factorial(num):\n",
    "    return num*factorial1(num-1)\n",
    "\n",
    "def factorial1(num):\n",
    "    return num*factorial2(num-1)\n",
    "\n",
    "def factorial2(num):\n",
    "    return num*factorial3(num-1)\n",
    "\n",
    "def factorial3(num):\n",
    "    return num*factorial4(num-1)\n",
    "\n",
    "def factorial4(num):\n",
    "    if num == 1:\n",
    "        return 1\n",
    "\n",
    "\n",
    "factorial(5)\n"
   ]
  },
  {
   "cell_type": "code",
   "execution_count": 6,
   "id": "542a610f",
   "metadata": {},
   "outputs": [
    {
     "data": {
      "text/plain": [
       "16"
      ]
     },
     "execution_count": 6,
     "metadata": {},
     "output_type": "execute_result"
    }
   ],
   "source": [
    "# power of n \n",
    "def power2(num):\n",
    "    if num == 1: # base case\n",
    "        return 2\n",
    "\n",
    "    small_answer = power2(num-1) # asuumption that is is true \n",
    "\n",
    "    biganswer =  2*small_answer # recursion relation\n",
    "    return biganswer\n",
    "\n",
    "power2(4)"
   ]
  },
  {
   "cell_type": "code",
   "execution_count": null,
   "id": "e5361bfc",
   "metadata": {},
   "outputs": [],
   "source": []
  }
 ],
 "metadata": {
  "kernelspec": {
   "display_name": "base",
   "language": "python",
   "name": "python3"
  },
  "language_info": {
   "codemirror_mode": {
    "name": "ipython",
    "version": 3
   },
   "file_extension": ".py",
   "mimetype": "text/x-python",
   "name": "python",
   "nbconvert_exporter": "python",
   "pygments_lexer": "ipython3",
   "version": "3.12.7"
  }
 },
 "nbformat": 4,
 "nbformat_minor": 5
}

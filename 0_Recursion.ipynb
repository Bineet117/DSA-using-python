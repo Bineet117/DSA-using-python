{
 "cells": [
  {
   "cell_type": "markdown",
   "id": "fa25003b",
   "metadata": {},
   "source": [
    "## Recursion"
   ]
  },
  {
   "cell_type": "markdown",
   "id": "fd8a36be",
   "metadata": {},
   "source": [
    "#### find factorial using loop"
   ]
  },
  {
   "cell_type": "code",
   "execution_count": null,
   "id": "2d59133f",
   "metadata": {},
   "outputs": [],
   "source": [
    "# how to find factorial using loop \n",
    "def factorial(num):\n",
    "    a = 1\n",
    "    for i in range(1,num+1):\n",
    "        a = a*i\n",
    "    return a"
   ]
  },
  {
   "cell_type": "code",
   "execution_count": 26,
   "id": "d343d0cf",
   "metadata": {},
   "outputs": [
    {
     "data": {
      "text/plain": [
       "120"
      ]
     },
     "execution_count": 26,
     "metadata": {},
     "output_type": "execute_result"
    }
   ],
   "source": [
    "factorial(5)"
   ]
  },
  {
   "cell_type": "markdown",
   "id": "6c7911d1",
   "metadata": {},
   "source": [
    "#### how to find factorial using recursion "
   ]
  },
  {
   "cell_type": "code",
   "execution_count": null,
   "id": "d1d87520",
   "metadata": {},
   "outputs": [],
   "source": [
    "# how to find factorial using recursion \n",
    "def factorial(num): \n",
    "\n",
    "    if num == 1: # this is base case\n",
    "        return 1\n",
    "    \n",
    "    return num*factorial(num-1)"
   ]
  },
  {
   "cell_type": "code",
   "execution_count": 8,
   "id": "f5410d19",
   "metadata": {},
   "outputs": [
    {
     "data": {
      "text/plain": [
       "120"
      ]
     },
     "execution_count": 8,
     "metadata": {},
     "output_type": "execute_result"
    }
   ],
   "source": [
    "factorial(5)"
   ]
  },
  {
   "cell_type": "code",
   "execution_count": 5,
   "id": "825a465e",
   "metadata": {},
   "outputs": [
    {
     "data": {
      "text/plain": [
       "120"
      ]
     },
     "execution_count": 5,
     "metadata": {},
     "output_type": "execute_result"
    }
   ],
   "source": [
    "# /if we will expand the code i will something look like this \n",
    "def factorial(num):\n",
    "    return num*factorial1(num-1)\n",
    "\n",
    "def factorial1(num):\n",
    "    return num*factorial2(num-1)\n",
    "\n",
    "def factorial2(num):\n",
    "    return num*factorial3(num-1)\n",
    "\n",
    "def factorial3(num):\n",
    "    return num*factorial4(num-1)\n",
    "\n",
    "def factorial4(num):\n",
    "    if num == 1:\n",
    "        return 1\n",
    "\n",
    "\n",
    "factorial(5)\n"
   ]
  },
  {
   "cell_type": "code",
   "execution_count": 6,
   "id": "542a610f",
   "metadata": {},
   "outputs": [
    {
     "data": {
      "text/plain": [
       "16"
      ]
     },
     "execution_count": 6,
     "metadata": {},
     "output_type": "execute_result"
    }
   ],
   "source": [
    "# power of n \n",
    "def power2(num):\n",
    "    if num == 1: # base case\n",
    "        return 2\n",
    "\n",
    "    small_answer = power2(num-1) # asuumption that is is true \n",
    "\n",
    "    biganswer =  2*small_answer # recursion relation\n",
    "    return biganswer\n",
    "\n",
    "power2(4)"
   ]
  },
  {
   "cell_type": "code",
   "execution_count": 7,
   "id": "e5361bfc",
   "metadata": {},
   "outputs": [
    {
     "data": {
      "text/plain": [
       "15"
      ]
     },
     "execution_count": 7,
     "metadata": {},
     "output_type": "execute_result"
    }
   ],
   "source": [
    "# write a program to find sum of all natural numberrs upto a given number(n)\n",
    "def sum_of_natural(num):\n",
    "\n",
    "    if num == 1:\n",
    "        return 1\n",
    "    \n",
    "    small_answer = sum_of_natural(num-1)\n",
    "\n",
    "    biganswer = num + small_answer\n",
    "    return biganswer\n",
    "\n",
    "sum_of_natural(5)"
   ]
  },
  {
   "cell_type": "code",
   "execution_count": 16,
   "id": "684633b5",
   "metadata": {},
   "outputs": [
    {
     "data": {
      "text/plain": [
       "5"
      ]
     },
     "execution_count": 16,
     "metadata": {},
     "output_type": "execute_result"
    }
   ],
   "source": [
    "# write a program to find number of digits in a number\n",
    "# also state recurrencce realtion and draw recurssion tree\n",
    "\n",
    "def count_num(num):\n",
    "    num = str(num)\n",
    "    if len(num) == 1:\n",
    "        return 1\n",
    "    \n",
    "    small_answer = count_num(num[:-1])\n",
    "\n",
    "    big_answer = 1 + small_answer\n",
    "    return big_answer\n",
    "\n",
    "count_num(34445)"
   ]
  },
  {
   "cell_type": "markdown",
   "id": "e09f5df5",
   "metadata": {},
   "source": [
    "#### FIbonacci series\n",
    "1 1 2 3 5 8 ......"
   ]
  },
  {
   "cell_type": "code",
   "execution_count": null,
   "id": "e686deaf",
   "metadata": {},
   "outputs": [],
   "source": []
  },
  {
   "cell_type": "markdown",
   "id": "42976bb1",
   "metadata": {},
   "source": [
    "#### HEAD & TAIL REcursion"
   ]
  },
  {
   "cell_type": "code",
   "execution_count": 17,
   "id": "5b47f507",
   "metadata": {},
   "outputs": [
    {
     "data": {
      "text/plain": [
       "120"
      ]
     },
     "execution_count": 17,
     "metadata": {},
     "output_type": "execute_result"
    }
   ],
   "source": [
    "# since beginning we are doing head recursion let's see a example of tail recursion\n",
    "\n",
    "def factorialTial(num, accumulator = 1):\n",
    "    if num == 0:\n",
    "        return accumulator\n",
    "    \n",
    "    accumulator = accumulator*num\n",
    "\n",
    "    return factorialTial(num-1 , accumulator)\n",
    "\n",
    "\n",
    "factorialTial(5)\n",
    "    "
   ]
  },
  {
   "cell_type": "code",
   "execution_count": null,
   "metadata": {},
   "outputs": [
    {
     "name": "stdout",
     "output_type": "stream",
     "text": [
      "1\n",
      "2\n",
      "3\n",
      "4\n",
      "5\n"
     ]
    }
   ],
   "source": [
    "# write a program for a given number n. \n",
    "#  print 1 to n\n",
    "\n",
    "def print_one_n(num):\n",
    "    if num == 0:\n",
    "        return 1 \n",
    "    \n",
    "    print_one_n(num-1)\n",
    "    print(num)\n",
    "\n",
    "print_one_n(5)\n",
    "\n"
   ]
  },
  {
   "cell_type": "code",
   "execution_count": 28,
   "id": "bcfc4d9b",
   "metadata": {},
   "outputs": [
    {
     "name": "stdout",
     "output_type": "stream",
     "text": [
      "5\n",
      "4\n",
      "3\n",
      "2\n",
      "1\n"
     ]
    }
   ],
   "source": [
    "# write a program for a given number n. \n",
    "#  print n to 1\n",
    "\n",
    "def print_one_n(num):\n",
    "    if num == 0:\n",
    "        return 1 \n",
    "    \n",
    "    print(num)\n",
    "    print_one_n(num-1)\n",
    "    \n",
    "\n",
    "print_one_n(5)\n",
    "\n"
   ]
  },
  {
   "cell_type": "markdown",
   "id": "039cb5d0",
   "metadata": {},
   "source": [
    "#### Recursion on lists / Array"
   ]
  },
  {
   "cell_type": "code",
   "execution_count": 30,
   "id": "4f69e11c",
   "metadata": {},
   "outputs": [
    {
     "data": {
      "text/plain": [
       "False"
      ]
     },
     "execution_count": 30,
     "metadata": {},
     "output_type": "execute_result"
    }
   ],
   "source": [
    "# write a program to check if array is sorted ?\n",
    "# recurrence relation, tree and use head/tail recusion \n",
    "\n",
    "l = [12,45 ,11]\n",
    "\n",
    "def checking_sort(data):\n",
    "    if len(data) == 1 and len(data) == 0:\n",
    "        return True\n",
    "    \n",
    "    if data[1] > data[0]:\n",
    "        return checking_sort(data[1:])\n",
    "    else:\n",
    "        return False\n",
    "\n",
    "    \n",
    "\n",
    "checking_sort(l)"
   ]
  },
  {
   "cell_type": "code",
   "execution_count": 36,
   "id": "cfa48535",
   "metadata": {},
   "outputs": [
    {
     "data": {
      "text/plain": [
       "-3"
      ]
     },
     "execution_count": 36,
     "metadata": {},
     "output_type": "execute_result"
    }
   ],
   "source": [
    "# sum of an array using recursion\n",
    "# head recursion\n",
    "def sum_of_array(data):\n",
    "    if len(data) == 1:\n",
    "        return data[0]\n",
    "    \n",
    "    small_answer = sum_of_array(data[1:])\n",
    "\n",
    "    answer = data[0]+small_answer\n",
    "\n",
    "    return answer\n",
    "\n",
    "sum_of_array([3,4,5])\n",
    "\n",
    "\n",
    "\n",
    "# tail recursion\n",
    "def sum_of_array_tail(data , accumulator = 0):\n",
    "    if len(data) == 1:\n",
    "        return accumulator + data[0]\n",
    "\n",
    "    accumulator = accumulator + data[0]\n",
    "\n",
    "    return sum_of_array_tail(data[1:], accumulator)\n",
    "\n",
    "sum_of_array_tail([-12,4,5])"
   ]
  },
  {
   "cell_type": "code",
   "execution_count": 37,
   "id": "e857eac3",
   "metadata": {},
   "outputs": [
    {
     "data": {
      "text/plain": [
       "2"
      ]
     },
     "execution_count": 37,
     "metadata": {},
     "output_type": "execute_result"
    }
   ],
   "source": [
    "# given an array and an element, find \n",
    "# first index of element \n",
    "# last index of element \n",
    "\n",
    "def first_index(data, element):\n",
    "    if len(data) == 0:\n",
    "        return -1\n",
    "    if data[0] == element:\n",
    "        return 0\n",
    "    \n",
    "    return first_index(data[1:], element) + 1\n",
    "    \n",
    "\n",
    "first_index([-12,4,5],5)"
   ]
  },
  {
   "cell_type": "code",
   "execution_count": null,
   "id": "af8ab415",
   "metadata": {},
   "outputs": [],
   "source": []
  }
 ],
 "metadata": {
  "kernelspec": {
   "display_name": "base",
   "language": "python",
   "name": "python3"
  },
  "language_info": {
   "codemirror_mode": {
    "name": "ipython",
    "version": 3
   },
   "file_extension": ".py",
   "mimetype": "text/x-python",
   "name": "python",
   "nbconvert_exporter": "python",
   "pygments_lexer": "ipython3",
   "version": "3.12.7"
  }
 },
 "nbformat": 4,
 "nbformat_minor": 5
}

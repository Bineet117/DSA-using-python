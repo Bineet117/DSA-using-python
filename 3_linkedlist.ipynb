{
 "cells": [
  {
   "cell_type": "markdown",
   "id": "33f90776",
   "metadata": {},
   "source": [
    "### Linked List "
   ]
  },
  {
   "cell_type": "code",
   "execution_count": 27,
   "id": "b760c99e",
   "metadata": {},
   "outputs": [],
   "source": [
    "class Create_node():\n",
    "    def __init__(self, data):\n",
    "        self.data = data\n",
    "        self.next = None\n",
    "\n",
    "\n",
    "class linkedlist():\n",
    "    def __init__(self):\n",
    "        self.head = None\n",
    "\n",
    "    def createnode(self, element):\n",
    "        if self.head == None:\n",
    "            self.head = Create_node(element)\n",
    "\n",
    "        node = Create_node(element)\n",
    "        node.next = self.head\n",
    "        self.head = node\n",
    "\n",
    "        return \"inserted data\"\n",
    "        "
   ]
  },
  {
   "cell_type": "code",
   "execution_count": 28,
   "id": "2386f386",
   "metadata": {},
   "outputs": [],
   "source": [
    "a = linkedlist()"
   ]
  },
  {
   "cell_type": "code",
   "execution_count": 31,
   "id": "a9ab7197",
   "metadata": {},
   "outputs": [
    {
     "ename": "AttributeError",
     "evalue": "'NoneType' object has no attribute 'data'",
     "output_type": "error",
     "traceback": [
      "\u001b[1;31m---------------------------------------------------------------------------\u001b[0m",
      "\u001b[1;31mAttributeError\u001b[0m                            Traceback (most recent call last)",
      "Cell \u001b[1;32mIn[31], line 1\u001b[0m\n\u001b[1;32m----> 1\u001b[0m a\u001b[38;5;241m.\u001b[39mhead\u001b[38;5;241m.\u001b[39mdata\n",
      "\u001b[1;31mAttributeError\u001b[0m: 'NoneType' object has no attribute 'data'"
     ]
    }
   ],
   "source": [
    "a.head.data"
   ]
  },
  {
   "cell_type": "code",
   "execution_count": 32,
   "id": "722073a1",
   "metadata": {},
   "outputs": [
    {
     "ename": "AttributeError",
     "evalue": "'NoneType' object has no attribute 'next'",
     "output_type": "error",
     "traceback": [
      "\u001b[1;31m---------------------------------------------------------------------------\u001b[0m",
      "\u001b[1;31mAttributeError\u001b[0m                            Traceback (most recent call last)",
      "Cell \u001b[1;32mIn[32], line 1\u001b[0m\n\u001b[1;32m----> 1\u001b[0m a\u001b[38;5;241m.\u001b[39mhead\u001b[38;5;241m.\u001b[39mnext\n",
      "\u001b[1;31mAttributeError\u001b[0m: 'NoneType' object has no attribute 'next'"
     ]
    }
   ],
   "source": [
    "a.head.next"
   ]
  },
  {
   "cell_type": "markdown",
   "id": "aa262c81",
   "metadata": {},
   "source": [
    "in the above code we can see we haven't created any node and  the value is none thats why it is giving error"
   ]
  },
  {
   "cell_type": "code",
   "execution_count": 21,
   "id": "8e9f1614",
   "metadata": {},
   "outputs": [
    {
     "data": {
      "text/plain": [
       "'inserted data'"
      ]
     },
     "execution_count": 21,
     "metadata": {},
     "output_type": "execute_result"
    }
   ],
   "source": [
    "a.createnode(2)\n",
    "a.createnode(3)\n",
    "a.createnode(45)"
   ]
  },
  {
   "cell_type": "markdown",
   "id": "080d24fd",
   "metadata": {},
   "source": [
    "we added three node which is inserted from head, we can see the data below"
   ]
  },
  {
   "cell_type": "code",
   "execution_count": 23,
   "id": "e988d39a",
   "metadata": {},
   "outputs": [
    {
     "name": "stdout",
     "output_type": "stream",
     "text": [
      "45\n",
      "<__main__.Create_node object at 0x0000015DD64E1100>\n",
      "3\n",
      "<__main__.Create_node object at 0x0000015DD64E1CD0>\n",
      "2\n"
     ]
    }
   ],
   "source": [
    "print(a.head.data)\n",
    "print(a.head.next)\n",
    "print(a.head.next.data)\n",
    "print(a.head.next.next)\n",
    "print(a.head.next.next.data)"
   ]
  },
  {
   "cell_type": "code",
   "execution_count": 26,
   "id": "c220ba33",
   "metadata": {},
   "outputs": [
    {
     "ename": "AttributeError",
     "evalue": "'NoneType' object has no attribute 'data'",
     "output_type": "error",
     "traceback": [
      "\u001b[1;31m---------------------------------------------------------------------------\u001b[0m",
      "\u001b[1;31mAttributeError\u001b[0m                            Traceback (most recent call last)",
      "Cell \u001b[1;32mIn[26], line 1\u001b[0m\n\u001b[1;32m----> 1\u001b[0m \u001b[38;5;28mprint\u001b[39m(a\u001b[38;5;241m.\u001b[39mhead\u001b[38;5;241m.\u001b[39mnext\u001b[38;5;241m.\u001b[39mnext\u001b[38;5;241m.\u001b[39mnext\u001b[38;5;241m.\u001b[39mnext\u001b[38;5;241m.\u001b[39mdata)\n",
      "\u001b[1;31mAttributeError\u001b[0m: 'NoneType' object has no attribute 'data'"
     ]
    }
   ],
   "source": [
    "print(a.head.next.next.next.next.data)"
   ]
  },
  {
   "cell_type": "code",
   "execution_count": 15,
   "id": "ba8339ad",
   "metadata": {},
   "outputs": [
    {
     "data": {
      "text/plain": [
       "45"
      ]
     },
     "execution_count": 15,
     "metadata": {},
     "output_type": "execute_result"
    }
   ],
   "source": [
    "a.head.data"
   ]
  },
  {
   "cell_type": "code",
   "execution_count": null,
   "metadata": {},
   "outputs": [],
   "source": [
    "node1 = Create_node(2)\n",
    "node2 = Create_node(4)\n",
    "node3 = Create_node(20)\n",
    "node4 = Create_node(40)\n"
   ]
  },
  {
   "cell_type": "code",
   "execution_count": null,
   "id": "ad36ca15",
   "metadata": {},
   "outputs": [],
   "source": []
  },
  {
   "cell_type": "code",
   "execution_count": 13,
   "id": "02c0901b",
   "metadata": {},
   "outputs": [],
   "source": [
    "node1 = Create_node(2)\n",
    "node2 = Create_node(4)\n",
    "node3 = Create_node(20)\n",
    "node4 = Create_node(40)"
   ]
  },
  {
   "cell_type": "code",
   "execution_count": 12,
   "id": "ad0914b8",
   "metadata": {},
   "outputs": [
    {
     "name": "stdout",
     "output_type": "stream",
     "text": [
      "<__main__.Create_node object at 0x000001ACF5EA2810> <__main__.Create_node object at 0x000001ACF5EA1D60>\n"
     ]
    }
   ],
   "source": [
    "node1\n",
    "print(node1, node2)"
   ]
  },
  {
   "cell_type": "code",
   "execution_count": 9,
   "id": "4c2b179f",
   "metadata": {},
   "outputs": [
    {
     "data": {
      "text/plain": [
       "1842370480176"
      ]
     },
     "execution_count": 9,
     "metadata": {},
     "output_type": "execute_result"
    }
   ],
   "source": [
    "int(0x1acf5d68830)"
   ]
  },
  {
   "cell_type": "code",
   "execution_count": null,
   "id": "c90a1b09",
   "metadata": {},
   "outputs": [],
   "source": []
  },
  {
   "cell_type": "code",
   "execution_count": null,
   "id": "2e1ae55e",
   "metadata": {},
   "outputs": [],
   "source": []
  },
  {
   "cell_type": "code",
   "execution_count": null,
   "id": "812afbd5",
   "metadata": {},
   "outputs": [],
   "source": []
  },
  {
   "cell_type": "code",
   "execution_count": null,
   "id": "9910f2d3",
   "metadata": {},
   "outputs": [],
   "source": []
  },
  {
   "cell_type": "code",
   "execution_count": null,
   "id": "10be289f",
   "metadata": {},
   "outputs": [],
   "source": []
  },
  {
   "cell_type": "code",
   "execution_count": null,
   "id": "d4924fd4",
   "metadata": {},
   "outputs": [],
   "source": []
  },
  {
   "cell_type": "code",
   "execution_count": null,
   "id": "79649ca6",
   "metadata": {},
   "outputs": [],
   "source": []
  }
 ],
 "metadata": {
  "kernelspec": {
   "display_name": "base",
   "language": "python",
   "name": "python3"
  },
  "language_info": {
   "codemirror_mode": {
    "name": "ipython",
    "version": 3
   },
   "file_extension": ".py",
   "mimetype": "text/x-python",
   "name": "python",
   "nbconvert_exporter": "python",
   "pygments_lexer": "ipython3",
   "version": "3.12.7"
  }
 },
 "nbformat": 4,
 "nbformat_minor": 5
}

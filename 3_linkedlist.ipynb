{
 "cells": [
  {
   "cell_type": "markdown",
   "id": "33f90776",
   "metadata": {},
   "source": [
    "### Linked List "
   ]
  },
  {
   "cell_type": "code",
   "execution_count": null,
   "id": "b760c99e",
   "metadata": {},
   "outputs": [],
   "source": [
    "class Create_node():\n",
    "    def __init__(self, data):\n",
    "        self.data = data\n",
    "        self.next = None\n",
    "\n",
    "\n",
    "class linkedlist():\n",
    "    def __init__(self):\n",
    "        self.head = None\n",
    "\n",
    "    # adding node \n",
    "    def head_inserting(self, element):\n",
    "        node = Create_node(element)\n",
    "        node.next = self.head\n",
    "        self.head = node\n",
    "        return \"inserted data\"\n",
    "        \n",
    "    # printing linkdelist data\n",
    "    def printing_data(self):\n",
    "        a = self.head # reason for creating this, so we dont losse data while looping\n",
    "        while a != None:\n",
    "            print(a.data , end=\"->\")\n",
    "            a = a.next\n",
    "\n",
    "    # tail inserting \n",
    "    def tail_inserting(self, tail):\n",
    "        node = self.head\n",
    "        while node.next != None: \n",
    "            node = node.next\n",
    "\n",
    "        tail_node = Create_node(tail)\n",
    "        node.next = tail_node\n",
    "        \n",
    "    # checking length of the linkedlist \n",
    "    def length_of_linkedlist(self):\n",
    "        node = self.head\n",
    "        count = 1\n",
    "        while node.next != None: \n",
    "            node = node.next\n",
    "            count = count+1\n",
    "\n",
    "        return count\n",
    "  \n",
    "    # inserting node at the particular index\n",
    "    def insert_at_index(self, value, index):\n",
    "        node = Create_node(value)\n",
    "\n",
    "        # Special case: insert at head (index 0)\n",
    "        if index == 0:\n",
    "            node.next = self.head\n",
    "            self.head = node\n",
    "            return\n",
    "\n",
    "        temp = self.head\n",
    "        for i in range(index - 1):\n",
    "            if temp is None:\n",
    "                raise IndexError(\"Index out of bounds\")\n",
    "            temp = temp.next\n",
    "\n",
    "        node.next = temp.next\n",
    "        temp.next = node \n"
   ]
  },
  {
   "cell_type": "code",
   "execution_count": 190,
   "id": "2386f386",
   "metadata": {},
   "outputs": [],
   "source": [
    "a = linkedlist()"
   ]
  },
  {
   "cell_type": "code",
   "execution_count": 191,
   "id": "a9ab7197",
   "metadata": {},
   "outputs": [
    {
     "ename": "AttributeError",
     "evalue": "'NoneType' object has no attribute 'data'",
     "output_type": "error",
     "traceback": [
      "\u001b[1;31m---------------------------------------------------------------------------\u001b[0m",
      "\u001b[1;31mAttributeError\u001b[0m                            Traceback (most recent call last)",
      "Cell \u001b[1;32mIn[191], line 1\u001b[0m\n\u001b[1;32m----> 1\u001b[0m a\u001b[38;5;241m.\u001b[39mhead\u001b[38;5;241m.\u001b[39mdata\n",
      "\u001b[1;31mAttributeError\u001b[0m: 'NoneType' object has no attribute 'data'"
     ]
    }
   ],
   "source": [
    "a.head.data"
   ]
  },
  {
   "cell_type": "code",
   "execution_count": 192,
   "id": "722073a1",
   "metadata": {},
   "outputs": [
    {
     "ename": "AttributeError",
     "evalue": "'NoneType' object has no attribute 'next'",
     "output_type": "error",
     "traceback": [
      "\u001b[1;31m---------------------------------------------------------------------------\u001b[0m",
      "\u001b[1;31mAttributeError\u001b[0m                            Traceback (most recent call last)",
      "Cell \u001b[1;32mIn[192], line 1\u001b[0m\n\u001b[1;32m----> 1\u001b[0m a\u001b[38;5;241m.\u001b[39mhead\u001b[38;5;241m.\u001b[39mnext\n",
      "\u001b[1;31mAttributeError\u001b[0m: 'NoneType' object has no attribute 'next'"
     ]
    }
   ],
   "source": [
    "a.head.next"
   ]
  },
  {
   "cell_type": "markdown",
   "id": "aa262c81",
   "metadata": {},
   "source": [
    "in the above code we can see we haven't created any node and  the value is none thats why it is giving error"
   ]
  },
  {
   "cell_type": "code",
   "execution_count": 193,
   "id": "8e9f1614",
   "metadata": {},
   "outputs": [
    {
     "data": {
      "text/plain": [
       "'inserted data'"
      ]
     },
     "execution_count": 193,
     "metadata": {},
     "output_type": "execute_result"
    }
   ],
   "source": [
    "a.head_inserting(2)\n",
    "a.head_inserting(3)\n",
    "a.head_inserting(45)"
   ]
  },
  {
   "cell_type": "markdown",
   "id": "080d24fd",
   "metadata": {},
   "source": [
    "we added three node which is inserted from head, we can see the data below"
   ]
  },
  {
   "cell_type": "code",
   "execution_count": 194,
   "id": "e988d39a",
   "metadata": {},
   "outputs": [
    {
     "name": "stdout",
     "output_type": "stream",
     "text": [
      "45\n",
      "<__main__.Create_node object at 0x0000015DD71A1850>\n",
      "3\n",
      "<__main__.Create_node object at 0x0000015DD71856A0>\n",
      "2\n"
     ]
    }
   ],
   "source": [
    "print(a.head.data)\n",
    "print(a.head.next)\n",
    "print(a.head.next.data)\n",
    "print(a.head.next.next)\n",
    "print(a.head.next.next.data)"
   ]
  },
  {
   "cell_type": "code",
   "execution_count": 195,
   "id": "c220ba33",
   "metadata": {},
   "outputs": [
    {
     "name": "stdout",
     "output_type": "stream",
     "text": [
      "45->3->2->"
     ]
    }
   ],
   "source": [
    "a.printing_data()"
   ]
  },
  {
   "cell_type": "code",
   "execution_count": 196,
   "id": "ba8339ad",
   "metadata": {},
   "outputs": [],
   "source": [
    "a.tail_inserting(78)"
   ]
  },
  {
   "cell_type": "code",
   "execution_count": 197,
   "metadata": {},
   "outputs": [
    {
     "name": "stdout",
     "output_type": "stream",
     "text": [
      "45->3->2->78->"
     ]
    }
   ],
   "source": [
    "a.printing_data()"
   ]
  },
  {
   "cell_type": "code",
   "execution_count": 198,
   "id": "ad36ca15",
   "metadata": {},
   "outputs": [
    {
     "data": {
      "text/plain": [
       "4"
      ]
     },
     "execution_count": 198,
     "metadata": {},
     "output_type": "execute_result"
    }
   ],
   "source": [
    "a.length_of_linkedlist()"
   ]
  },
  {
   "cell_type": "markdown",
   "id": "11cf14ef",
   "metadata": {},
   "source": [
    "## Linkedlist Operations\n",
    "\n",
    "- insert \n",
    "  - insert at head\n",
    "  - insert at tail\n",
    "  - insert at middle\n",
    "\n",
    "- Delete\n",
    "  - delete head\n",
    "  - delete tail \n",
    "  - delete by index\n",
    "  - delete by value\n",
    "\n",
    "- Search\n",
    "  - search by index\n",
    "  - search by value\n",
    "\n",
    "- Traverse\n",
    "  - print\n",
    "\n"
   ]
  },
  {
   "cell_type": "code",
   "execution_count": 253,
   "id": "35ab9f60",
   "metadata": {},
   "outputs": [],
   "source": [
    "class Create_node():\n",
    "    def __init__(self, data):\n",
    "        self.data = data\n",
    "        self.next = None\n",
    "\n",
    "\n",
    "class linkedlist():\n",
    "    def __init__(self):\n",
    "        self.head = None\n",
    "\n",
    "    # adding node \n",
    "    def head_inserting(self, element):\n",
    "        node = Create_node(element)\n",
    "        node.next = self.head\n",
    "        self.head = node\n",
    "        return \"inserted data\"\n",
    "        \n",
    "    # printing linkdelist data\n",
    "    def printing_data(self):\n",
    "        if self.head == None:\n",
    "            return \"Empty Linkedlist\"\n",
    "        a = self.head # reason for creating this, so we dont losse data while looping\n",
    "        while a != None:\n",
    "            print(a.data , end=\" -> \")\n",
    "            a = a.next\n",
    "\n",
    "    # tail inserting \n",
    "    def tail_inserting(self, tail):\n",
    "        node = self.head\n",
    "        while node.next != None: \n",
    "            node = node.next\n",
    "\n",
    "        tail_node = Create_node(tail)\n",
    "        node.next = tail_node\n",
    "  \n",
    "    # inserting node at the particular index\n",
    "    def insert_at_index(self, value, index):\n",
    "        node = Create_node(value)\n",
    "        # Special case: insert at head (index 0)\n",
    "        if index == 0:\n",
    "            node.next = self.head\n",
    "            self.head = node\n",
    "            return\n",
    "\n",
    "        temp = self.head\n",
    "        for i in range(index - 1):\n",
    "            if temp is None:\n",
    "                raise IndexError(\"Index out of bounds\")\n",
    "            temp = temp.next\n",
    "\n",
    "        node.next = temp.next\n",
    "        temp.next = node \n",
    "\n",
    "        \n",
    "    # checking length of the linkedlist \n",
    "    def length_of_linkedlist(self):\n",
    "        node = self.head\n",
    "        count = 1\n",
    "        while node.next != None: \n",
    "            node = node.next\n",
    "            count = count+1\n",
    "\n",
    "        return count"
   ]
  },
  {
   "cell_type": "code",
   "execution_count": 254,
   "id": "db8b8fea",
   "metadata": {},
   "outputs": [
    {
     "data": {
      "text/plain": [
       "'inserted data'"
      ]
     },
     "execution_count": 254,
     "metadata": {},
     "output_type": "execute_result"
    }
   ],
   "source": [
    "insert = linkedlist()\n",
    "\n",
    "insert.head_inserting(2)\n",
    "insert.head_inserting(3)\n",
    "insert.head_inserting(45)\n",
    "insert.head_inserting(65)\n",
    "insert.head_inserting(75)"
   ]
  },
  {
   "cell_type": "markdown",
   "id": "d9ed84a8",
   "metadata": {},
   "source": [
    "### Insert\n",
    "- we have already seen how to insert from tail and head. let's see how can we insert using index "
   ]
  },
  {
   "cell_type": "code",
   "execution_count": 255,
   "id": "02c0901b",
   "metadata": {},
   "outputs": [],
   "source": [
    "insert.insert_at_index(23, 3)"
   ]
  },
  {
   "cell_type": "code",
   "execution_count": 256,
   "id": "ad0914b8",
   "metadata": {},
   "outputs": [
    {
     "name": "stdout",
     "output_type": "stream",
     "text": [
      "75 -> 65 -> 45 -> 23 -> 3 -> 2 -> "
     ]
    }
   ],
   "source": [
    "insert.printing_data()"
   ]
  },
  {
   "cell_type": "markdown",
   "id": "3977779c",
   "metadata": {},
   "source": [
    "### Delete"
   ]
  },
  {
   "cell_type": "code",
   "execution_count": 275,
   "id": "4c2b179f",
   "metadata": {},
   "outputs": [],
   "source": [
    "class delete(linkedlist):\n",
    "\n",
    "    def delete_from_head(self):\n",
    "        if (self.head == None):\n",
    "            return \"Linkedlist is empty\"\n",
    "        \n",
    "        t = self.head.next\n",
    "        self.head = t\n",
    "        \n",
    "    def delete_from_tail(self):\n",
    "        if (self.head == None):\n",
    "            return \"Linkedlist is empty\"\n",
    "        \n",
    "        if (self.head.next == None):\n",
    "            self.head = None\n",
    "            return \"Deleted\"\n",
    "        \n",
    "        temp = self.head\n",
    "        while temp.next.next != None:\n",
    "            temp = temp.next\n",
    "\n",
    "        temp.next = None\n",
    "        return \"Deleted\"\n",
    "         \n",
    "    def delete_node_at_index(self, index):\n",
    "        if self.head == None:\n",
    "            return \"empty linkedlist\"\n",
    "        \n",
    "        temp = self.head\n",
    "        for i in range(index-1):\n",
    "            temp = temp.next\n",
    "        \n",
    "        temp.next = temp.next.next\n",
    "\n",
    "\n",
    "        \n",
    "        \n"
   ]
  },
  {
   "cell_type": "code",
   "execution_count": 276,
   "id": "c90a1b09",
   "metadata": {},
   "outputs": [
    {
     "data": {
      "text/plain": [
       "'inserted data'"
      ]
     },
     "execution_count": 276,
     "metadata": {},
     "output_type": "execute_result"
    }
   ],
   "source": [
    "dele = delete()\n",
    "\n",
    "dele.head_inserting(2)\n",
    "dele.head_inserting(3)\n",
    "dele.head_inserting(45)\n",
    "dele.head_inserting(65)\n",
    "dele.head_inserting(75)"
   ]
  },
  {
   "cell_type": "code",
   "execution_count": 277,
   "id": "2e1ae55e",
   "metadata": {},
   "outputs": [
    {
     "name": "stdout",
     "output_type": "stream",
     "text": [
      "75 -> 65 -> 45 -> 3 -> 2 -> "
     ]
    }
   ],
   "source": [
    "dele.printing_data()"
   ]
  },
  {
   "cell_type": "code",
   "execution_count": 278,
   "id": "d2e8f897",
   "metadata": {},
   "outputs": [],
   "source": [
    "dele.delete_node_at_index(2)"
   ]
  },
  {
   "cell_type": "code",
   "execution_count": 279,
   "id": "7be8d55a",
   "metadata": {},
   "outputs": [
    {
     "name": "stdout",
     "output_type": "stream",
     "text": [
      "75 -> 65 -> 3 -> 2 -> "
     ]
    }
   ],
   "source": [
    "dele.printing_data()"
   ]
  },
  {
   "cell_type": "code",
   "execution_count": 260,
   "id": "812afbd5",
   "metadata": {},
   "outputs": [],
   "source": [
    "dele.delete_from_head()"
   ]
  },
  {
   "cell_type": "code",
   "execution_count": 261,
   "id": "9910f2d3",
   "metadata": {},
   "outputs": [
    {
     "name": "stdout",
     "output_type": "stream",
     "text": [
      "2 -> "
     ]
    }
   ],
   "source": [
    "dele.printing_data()"
   ]
  },
  {
   "cell_type": "code",
   "execution_count": 262,
   "id": "10be289f",
   "metadata": {},
   "outputs": [
    {
     "data": {
      "text/plain": [
       "'Deleted'"
      ]
     },
     "execution_count": 262,
     "metadata": {},
     "output_type": "execute_result"
    }
   ],
   "source": [
    "dele.delete_from_tail()"
   ]
  },
  {
   "cell_type": "code",
   "execution_count": 263,
   "id": "d4924fd4",
   "metadata": {},
   "outputs": [
    {
     "data": {
      "text/plain": [
       "'Empty Linkedlist'"
      ]
     },
     "execution_count": 263,
     "metadata": {},
     "output_type": "execute_result"
    }
   ],
   "source": [
    "dele.printing_data()"
   ]
  },
  {
   "cell_type": "code",
   "execution_count": 268,
   "id": "79649ca6",
   "metadata": {},
   "outputs": [],
   "source": [
    "dele.delete_node_at_index(2)"
   ]
  },
  {
   "cell_type": "code",
   "execution_count": 269,
   "id": "4f1e6874",
   "metadata": {},
   "outputs": [
    {
     "name": "stdout",
     "output_type": "stream",
     "text": [
      "75 -> 65 -> 45 -> 2 -> "
     ]
    }
   ],
   "source": [
    "dele.printing_data()"
   ]
  },
  {
   "cell_type": "code",
   "execution_count": null,
   "id": "47eda508",
   "metadata": {},
   "outputs": [],
   "source": []
  }
 ],
 "metadata": {
  "kernelspec": {
   "display_name": "base",
   "language": "python",
   "name": "python3"
  },
  "language_info": {
   "codemirror_mode": {
    "name": "ipython",
    "version": 3
   },
   "file_extension": ".py",
   "mimetype": "text/x-python",
   "name": "python",
   "nbconvert_exporter": "python",
   "pygments_lexer": "ipython3",
   "version": "3.12.7"
  }
 },
 "nbformat": 4,
 "nbformat_minor": 5
}

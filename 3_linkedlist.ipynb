{
 "cells": [
  {
   "cell_type": "markdown",
   "id": "33f90776",
   "metadata": {},
   "source": [
    "### Linked List "
   ]
  },
  {
   "cell_type": "code",
   "execution_count": 1,
   "id": "b760c99e",
   "metadata": {},
   "outputs": [
    {
     "ename": "ValueError",
     "evalue": "invalid literal for int() with base 10: ''",
     "output_type": "error",
     "traceback": [
      "\u001b[1;31m---------------------------------------------------------------------------\u001b[0m",
      "\u001b[1;31mValueError\u001b[0m                                Traceback (most recent call last)",
      "Cell \u001b[1;32mIn[1], line 20\u001b[0m\n\u001b[0;32m     16\u001b[0m             head\u001b[38;5;241m.\u001b[39maddress \u001b[38;5;241m=\u001b[39m new_node\n\u001b[0;32m     18\u001b[0m         \u001b[38;5;28;01mreturn\u001b[39;00m head\n\u001b[1;32m---> 20\u001b[0m kk \u001b[38;5;241m=\u001b[39m linkedlist\u001b[38;5;241m.\u001b[39madd_node()\n\u001b[0;32m     21\u001b[0m \u001b[38;5;28mprint\u001b[39m(kk)\n",
      "Cell \u001b[1;32mIn[1], line 10\u001b[0m, in \u001b[0;36mlinkedlist.add_node\u001b[1;34m()\u001b[0m\n\u001b[0;32m      9\u001b[0m \u001b[38;5;28;01mdef\u001b[39;00m \u001b[38;5;21madd_node\u001b[39m():\n\u001b[1;32m---> 10\u001b[0m     input_data \u001b[38;5;241m=\u001b[39m \u001b[38;5;28mint\u001b[39m(\u001b[38;5;28minput\u001b[39m(\u001b[38;5;124m\"\u001b[39m\u001b[38;5;124menter the data\u001b[39m\u001b[38;5;124m\"\u001b[39m))\n\u001b[0;32m     11\u001b[0m     head \u001b[38;5;241m=\u001b[39m \u001b[38;5;28;01mNone\u001b[39;00m\n\u001b[0;32m     12\u001b[0m     new_node \u001b[38;5;241m=\u001b[39m Create_node(input_data)\n",
      "\u001b[1;31mValueError\u001b[0m: invalid literal for int() with base 10: ''"
     ]
    }
   ],
   "source": [
    "class Create_node():\n",
    "\n",
    "    def __init__(self, data):\n",
    "        self.data = data\n",
    "        self.address = None\n",
    "\n",
    "class linkedlist(Create_node):\n",
    "\n",
    "    def add_node():\n",
    "        input_data = int(input(\"enter the data\"))\n",
    "        head = None\n",
    "        new_node = Create_node(input_data)\n",
    "        if head == None:\n",
    "            head = new_node\n",
    "        else:\n",
    "            head.address = new_node\n",
    "        \n",
    "        return head\n",
    "\n",
    "kk = linkedlist.add_node()\n",
    "print(kk)"
   ]
  },
  {
   "cell_type": "code",
   "execution_count": null,
   "metadata": {},
   "outputs": [],
   "source": [
    "\n"
   ]
  },
  {
   "cell_type": "code",
   "execution_count": null,
   "id": "ad36ca15",
   "metadata": {},
   "outputs": [],
   "source": []
  },
  {
   "cell_type": "code",
   "execution_count": 13,
   "id": "02c0901b",
   "metadata": {},
   "outputs": [],
   "source": [
    "node1 = Create_node(2)\n",
    "node2 = Create_node(4)\n",
    "node3 = Create_node(20)\n",
    "node4 = Create_node(40)"
   ]
  },
  {
   "cell_type": "code",
   "execution_count": 12,
   "id": "ad0914b8",
   "metadata": {},
   "outputs": [
    {
     "name": "stdout",
     "output_type": "stream",
     "text": [
      "<__main__.Create_node object at 0x000001ACF5EA2810> <__main__.Create_node object at 0x000001ACF5EA1D60>\n"
     ]
    }
   ],
   "source": [
    "node1\n",
    "print(node1, node2)"
   ]
  },
  {
   "cell_type": "code",
   "execution_count": 9,
   "id": "4c2b179f",
   "metadata": {},
   "outputs": [
    {
     "data": {
      "text/plain": [
       "1842370480176"
      ]
     },
     "execution_count": 9,
     "metadata": {},
     "output_type": "execute_result"
    }
   ],
   "source": [
    "int(0x1acf5d68830)"
   ]
  },
  {
   "cell_type": "code",
   "execution_count": null,
   "id": "c90a1b09",
   "metadata": {},
   "outputs": [],
   "source": []
  },
  {
   "cell_type": "code",
   "execution_count": null,
   "id": "2e1ae55e",
   "metadata": {},
   "outputs": [],
   "source": []
  },
  {
   "cell_type": "code",
   "execution_count": null,
   "id": "812afbd5",
   "metadata": {},
   "outputs": [],
   "source": []
  },
  {
   "cell_type": "code",
   "execution_count": null,
   "id": "9910f2d3",
   "metadata": {},
   "outputs": [],
   "source": []
  },
  {
   "cell_type": "code",
   "execution_count": null,
   "id": "10be289f",
   "metadata": {},
   "outputs": [],
   "source": []
  },
  {
   "cell_type": "code",
   "execution_count": null,
   "id": "d4924fd4",
   "metadata": {},
   "outputs": [],
   "source": []
  },
  {
   "cell_type": "code",
   "execution_count": null,
   "id": "79649ca6",
   "metadata": {},
   "outputs": [],
   "source": []
  }
 ],
 "metadata": {
  "kernelspec": {
   "display_name": "base",
   "language": "python",
   "name": "python3"
  },
  "language_info": {
   "codemirror_mode": {
    "name": "ipython",
    "version": 3
   },
   "file_extension": ".py",
   "mimetype": "text/x-python",
   "name": "python",
   "nbconvert_exporter": "python",
   "pygments_lexer": "ipython3",
   "version": "3.12.7"
  }
 },
 "nbformat": 4,
 "nbformat_minor": 5
}

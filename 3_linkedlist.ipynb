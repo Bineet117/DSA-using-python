{
 "cells": [
  {
   "cell_type": "markdown",
   "id": "33f90776",
   "metadata": {},
   "source": [
    "### Linked List "
   ]
  },
  {
   "cell_type": "code",
   "execution_count": 11,
   "id": "b760c99e",
   "metadata": {},
   "outputs": [],
   "source": [
    "class Create_node():\n",
    "    def __init__(self, data):\n",
    "        self.data = data\n",
    "        self.next = None\n",
    "\n",
    "\n",
    "class linkedlist():\n",
    "    def __init__(self):\n",
    "        self.head = None\n",
    "\n",
    "    def createnode(element):\n",
    "        if self.head == None:\n",
    "            self.head = Create_node(element)\n",
    "\n",
    "        node = Create_node(element)\n",
    "        node.next = self.head\n",
    "        self.head = node\n",
    "\n",
    "        return \"inserted data\"\n",
    "        "
   ]
  },
  {
   "cell_type": "code",
   "execution_count": 12,
   "id": "2386f386",
   "metadata": {},
   "outputs": [],
   "source": [
    "a = linkedlist()"
   ]
  },
  {
   "cell_type": "code",
   "execution_count": 13,
   "id": "8e9f1614",
   "metadata": {},
   "outputs": [
    {
     "ename": "TypeError",
     "evalue": "linkedlist.createnode() takes 1 positional argument but 2 were given",
     "output_type": "error",
     "traceback": [
      "\u001b[1;31m---------------------------------------------------------------------------\u001b[0m",
      "\u001b[1;31mTypeError\u001b[0m                                 Traceback (most recent call last)",
      "Cell \u001b[1;32mIn[13], line 1\u001b[0m\n\u001b[1;32m----> 1\u001b[0m a\u001b[38;5;241m.\u001b[39mcreatenode(\u001b[38;5;241m2\u001b[39m)\n",
      "\u001b[1;31mTypeError\u001b[0m: linkedlist.createnode() takes 1 positional argument but 2 were given"
     ]
    }
   ],
   "source": [
    "a.createnode(2)"
   ]
  },
  {
   "cell_type": "code",
   "execution_count": null,
   "metadata": {},
   "outputs": [],
   "source": [
    "node1 = Create_node(2)\n",
    "node2 = Create_node(4)\n",
    "node3 = Create_node(20)\n",
    "node4 = Create_node(40)\n"
   ]
  },
  {
   "cell_type": "code",
   "execution_count": null,
   "id": "ad36ca15",
   "metadata": {},
   "outputs": [],
   "source": []
  },
  {
   "cell_type": "code",
   "execution_count": 13,
   "id": "02c0901b",
   "metadata": {},
   "outputs": [],
   "source": [
    "node1 = Create_node(2)\n",
    "node2 = Create_node(4)\n",
    "node3 = Create_node(20)\n",
    "node4 = Create_node(40)"
   ]
  },
  {
   "cell_type": "code",
   "execution_count": 12,
   "id": "ad0914b8",
   "metadata": {},
   "outputs": [
    {
     "name": "stdout",
     "output_type": "stream",
     "text": [
      "<__main__.Create_node object at 0x000001ACF5EA2810> <__main__.Create_node object at 0x000001ACF5EA1D60>\n"
     ]
    }
   ],
   "source": [
    "node1\n",
    "print(node1, node2)"
   ]
  },
  {
   "cell_type": "code",
   "execution_count": 9,
   "id": "4c2b179f",
   "metadata": {},
   "outputs": [
    {
     "data": {
      "text/plain": [
       "1842370480176"
      ]
     },
     "execution_count": 9,
     "metadata": {},
     "output_type": "execute_result"
    }
   ],
   "source": [
    "int(0x1acf5d68830)"
   ]
  },
  {
   "cell_type": "code",
   "execution_count": null,
   "id": "c90a1b09",
   "metadata": {},
   "outputs": [],
   "source": []
  },
  {
   "cell_type": "code",
   "execution_count": null,
   "id": "2e1ae55e",
   "metadata": {},
   "outputs": [],
   "source": []
  },
  {
   "cell_type": "code",
   "execution_count": null,
   "id": "812afbd5",
   "metadata": {},
   "outputs": [],
   "source": []
  },
  {
   "cell_type": "code",
   "execution_count": null,
   "id": "9910f2d3",
   "metadata": {},
   "outputs": [],
   "source": []
  },
  {
   "cell_type": "code",
   "execution_count": null,
   "id": "10be289f",
   "metadata": {},
   "outputs": [],
   "source": []
  },
  {
   "cell_type": "code",
   "execution_count": null,
   "id": "d4924fd4",
   "metadata": {},
   "outputs": [],
   "source": []
  },
  {
   "cell_type": "code",
   "execution_count": null,
   "id": "79649ca6",
   "metadata": {},
   "outputs": [],
   "source": []
  }
 ],
 "metadata": {
  "kernelspec": {
   "display_name": "base",
   "language": "python",
   "name": "python3"
  },
  "language_info": {
   "codemirror_mode": {
    "name": "ipython",
    "version": 3
   },
   "file_extension": ".py",
   "mimetype": "text/x-python",
   "name": "python",
   "nbconvert_exporter": "python",
   "pygments_lexer": "ipython3",
   "version": "3.12.7"
  }
 },
 "nbformat": 4,
 "nbformat_minor": 5
}

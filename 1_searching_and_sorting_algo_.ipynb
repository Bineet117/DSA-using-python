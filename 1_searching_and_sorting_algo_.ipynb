{
  "nbformat": 4,
  "nbformat_minor": 0,
  "metadata": {
    "colab": {
      "provenance": [],
      "authorship_tag": "ABX9TyNaLs1OLK31i1guRnlL80on",
      "include_colab_link": true
    },
    "kernelspec": {
      "name": "python3",
      "display_name": "Python 3"
    },
    "language_info": {
      "name": "python"
    }
  },
  "cells": [
    {
      "cell_type": "markdown",
      "metadata": {
        "id": "view-in-github",
        "colab_type": "text"
      },
      "source": [
        "<a href=\"https://colab.research.google.com/github/Bineet117/DSA-using-python/blob/main/1_searching_and_sorting_algo_.ipynb\" target=\"_parent\"><img src=\"https://colab.research.google.com/assets/colab-badge.svg\" alt=\"Open In Colab\"/></a>"
      ]
    },
    {
      "cell_type": "markdown",
      "source": [
        "## Linear search"
      ],
      "metadata": {
        "id": "OpXZCLRGPOfO"
      }
    },
    {
      "cell_type": "code",
      "execution_count": 1,
      "metadata": {
        "id": "RjcHxDnlN2qI"
      },
      "outputs": [],
      "source": [
        "def linear_search(arr, target):\n",
        "  arr_length = len(arr)\n",
        "  for i in range(0, arr_length):\n",
        "    if target == arr[i]:\n",
        "      return arr[i]\n",
        "  print(\"not a valid number\")"
      ]
    },
    {
      "cell_type": "code",
      "source": [
        "a = [23,34,23,56,67]\n",
        "target = \"hello\"\n",
        "linear_search(a, target)"
      ],
      "metadata": {
        "id": "0AhG1rdSOrFa",
        "colab": {
          "base_uri": "https://localhost:8080/"
        },
        "outputId": "40bef0b4-cd25-40d3-ef27-5bfc265d9347"
      },
      "execution_count": 2,
      "outputs": [
        {
          "output_type": "stream",
          "name": "stdout",
          "text": [
            "not a valid number\n"
          ]
        }
      ]
    },
    {
      "cell_type": "markdown",
      "source": [
        "## Binary search"
      ],
      "metadata": {
        "id": "YEDWnViJS-F6"
      }
    },
    {
      "cell_type": "code",
      "source": [
        "def binary_search(arr, target):\n",
        "    size = len(arr)\n",
        "    start = 0\n",
        "    end = size - 1\n",
        "\n",
        "    while start <= end:\n",
        "        mid = (start + end) // 2\n",
        "        if arr[mid] == target:\n",
        "            return mid\n",
        "        elif arr[mid] > target:\n",
        "            end = mid - 1\n",
        "        else:\n",
        "            start = mid + 1\n",
        "\n",
        "    return -1\n",
        "\n",
        "a = sorted([23, 34, 23, 56, 67])  # Must be sorted\n",
        "target = 23\n",
        "print(binary_search(a, target))\n"
      ],
      "metadata": {
        "id": "_9HQxQ4iO5Z9",
        "colab": {
          "base_uri": "https://localhost:8080/"
        },
        "outputId": "344a145d-36fd-4e7d-e36d-e592f618f5e4"
      },
      "execution_count": null,
      "outputs": [
        {
          "output_type": "stream",
          "name": "stdout",
          "text": [
            "0\n"
          ]
        }
      ]
    },
    {
      "cell_type": "markdown",
      "source": [
        "## bubblesort"
      ],
      "metadata": {
        "id": "-R8F_jiiGQoQ"
      }
    },
    {
      "cell_type": "code",
      "source": [
        "def bubblesort(arr):\n",
        "  size = len(arr)\n",
        "  for i in range(0 , size - 1):\n",
        "    for j in range(0, size-i-1):\n",
        "      if arr[j]> arr[j+1]:\n",
        "        arr[j], arr[j+1] = arr[j+1], arr[j]\n",
        "\n",
        "  return arr\n",
        "\n",
        "arr = [12,15,11,34,90,22]\n",
        "bubblesort(arr)"
      ],
      "metadata": {
        "colab": {
          "base_uri": "https://localhost:8080/"
        },
        "id": "JEKH3Iz1-UKo",
        "outputId": "3b671e7e-efb4-4a97-a41a-e66b8ea2c01d"
      },
      "execution_count": 11,
      "outputs": [
        {
          "output_type": "execute_result",
          "data": {
            "text/plain": [
              "[11, 12, 15, 22, 34, 90]"
            ]
          },
          "metadata": {},
          "execution_count": 11
        }
      ]
    },
    {
      "cell_type": "markdown",
      "source": [
        "### Selection sort"
      ],
      "metadata": {
        "id": "2DRjR0N_-Uko"
      }
    },
    {
      "cell_type": "code",
      "source": [
        "def selection_sort(arr):\n",
        "  size = len(arr)\n",
        "\n",
        "  for i in range(size-1):\n",
        "    index = i\n",
        "    for j in range(i, size-1):\n",
        "      if arr[j] < arr[index]:\n",
        "        index = j\n",
        "    arr[i], arr[index] = arr[index], arr[i]\n",
        "  return arr\n",
        "\n",
        "arr = [-23, 12,15,11,34,90,22]\n",
        "selection_sort(arr)"
      ],
      "metadata": {
        "id": "fV1YMU5wa9PO",
        "colab": {
          "base_uri": "https://localhost:8080/"
        },
        "outputId": "0cdc45fa-50c6-4863-ab63-ad2694386a01"
      },
      "execution_count": 16,
      "outputs": [
        {
          "output_type": "execute_result",
          "data": {
            "text/plain": [
              "[-23, 11, 12, 15, 34, 90, 22]"
            ]
          },
          "metadata": {},
          "execution_count": 16
        }
      ]
    },
    {
      "cell_type": "code",
      "source": [],
      "metadata": {
        "id": "DEB_2haH278v"
      },
      "execution_count": null,
      "outputs": []
    }
  ]
}
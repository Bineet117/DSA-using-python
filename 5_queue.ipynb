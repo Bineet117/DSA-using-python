{
 "cells": [
  {
   "cell_type": "markdown",
   "id": "c95b0f10",
   "metadata": {},
   "source": [
    "\n",
    "## **Queue**\n",
    "\n",
    "* It is a **linear data structure**\n",
    "* It follows **FIFO (First In First Out)**\n",
    "* **Example**:\n",
    "\n",
    "  * People standing in line\n",
    "  * Printer queue\n",
    "  * Waiting list in customer support\n",
    "\n",
    "\n",
    "### **Abstract Data Type**\n",
    "\n",
    "* **Queue** is an **abstract data type**: its behavior is defined by a set of operations.\n",
    "* It **hides internal implementation** — only how it behaves (enqueue, dequeue, etc.) matters.\n",
    "\n",
    "\n",
    "### **Operations**:\n",
    "\n",
    "* **Enqueue**: Add element at the **rear (end)**\n",
    "* **Dequeue**: Remove element from the **front**\n",
    "* **Peek/Front**: View the element at the **front** without removing\n",
    "* **Size**: Total number of elements\n",
    "* **isEmpty**: Check if the queue is empty\n",
    "* **View**: Show all elements from front to rear\n"
   ]
  },
  {
   "cell_type": "markdown",
   "id": "86a9c32f",
   "metadata": {},
   "source": [
    "___"
   ]
  },
  {
   "cell_type": "markdown",
   "metadata": {},
   "source": [
    "#### 1. Implementation of queue operation using array/list"
   ]
  },
  {
   "cell_type": "code",
   "execution_count": null,
   "id": "f3bbf257",
   "metadata": {},
   "outputs": [],
   "source": [
    "class Queue:\n",
    "    def __init__(self):\n",
    "        self.__queue = [1,2,3,4,5,6]\n",
    "\n",
    "    def enqueue(self,data):\n",
    "        self.__queue.append(data)\n",
    "        return \"Data Added\"\n",
    "    \n",
    "    def dequeue(self):\n",
    "        if len(self.__queue) == 0:\n",
    "            return \"Empty Queue\"\n",
    "        self.__queue = self.__queue[1:]\n",
    "        return \"Removed first element\"\n",
    "    \n",
    "    def peek(self):\n",
    "        if len(self.__queue) == 0:\n",
    "            return \"Empty Queue\"\n",
    "        return f\"First element: {self.__queue[0]}\"\n",
    "    \n",
    "    def length(self):\n",
    "        return len(self.__queue)\n",
    "    \n",
    "    def is_empty(self):\n",
    "        if len(self.__queue) == 0:\n",
    "            return \"Yes it is empty\"\n",
    "        else:\n",
    "            return \"No it is not empty\"\n",
    "        \n",
    "    def view_element(self):\n",
    "        return self.__queue"
   ]
  },
  {
   "cell_type": "code",
   "execution_count": 7,
   "id": "d330fdb4",
   "metadata": {},
   "outputs": [
    {
     "name": "stdout",
     "output_type": "stream",
     "text": [
      "Data Added\n",
      "[1, 2, 3, 4, 5, 6, 90]\n",
      "Removed first element\n",
      "[2, 3, 4, 5, 6, 90]\n",
      "First element: 2\n",
      "[2, 3, 4, 5, 6, 90]\n",
      "6\n",
      "[2, 3, 4, 5, 6, 90]\n",
      "No it is not empty\n",
      "[2, 3, 4, 5, 6, 90]\n"
     ]
    }
   ],
   "source": [
    "a = Queue()\n",
    "\n",
    "print(a.enqueue(90))\n",
    "print(a.view_element())\n",
    "print(a.dequeue())\n",
    "print(a.view_element())\n",
    "print(a.peek())\n",
    "print(a.view_element())\n",
    "print(a.length())\n",
    "print(a.view_element())\n",
    "print(a.is_empty())\n",
    "print(a.view_element())"
   ]
  },
  {
   "cell_type": "markdown",
   "id": "afdd20e5",
   "metadata": {},
   "source": [
    "#### 2. Implementation of stack operation using LinkedList"
   ]
  },
  {
   "cell_type": "code",
   "execution_count": 41,
   "id": "d092761c",
   "metadata": {},
   "outputs": [],
   "source": [
    "class Node():\n",
    "    def __init__(self, data):  \n",
    "        self.data = data\n",
    "        self.next = None\n",
    "\n",
    "class Stack():\n",
    "    def __init__(self):\n",
    "        self.head = None\n",
    "\n",
    "    def insert_data_last(self, data):\n",
    "        node = Node(data)\n",
    "        if self.head == None:\n",
    "            self.head = node\n",
    "            return \"inserted\"\n",
    "\n",
    "        temp = self.head\n",
    "        while temp.next != None:\n",
    "            temp = temp.next\n",
    "        temp.next = node\n",
    "\n",
    "    def printing_data(self):\n",
    "        a = self.head # reason for creating this, so we dont losse data while looping\n",
    "        while a != None:\n",
    "            print(a.data , end=\"->\")\n",
    "            a = a.next\n",
    "\n",
    "    def check_size(self):\n",
    "        temp = self.head\n",
    "        count = 0\n",
    "        while temp != None:\n",
    "            temp = temp.next\n",
    "            count= count+1\n",
    "        return count\n",
    "    \n",
    "    def first_element(self):\n",
    "        return f\"First element: {self.head.data}\"\n",
    "    \n",
    "    def remove_first(self):\n",
    "        temp = self.head.next\n",
    "        self.head = temp\n",
    "        self.printing_data() \n",
    "\n",
    "        "
   ]
  },
  {
   "cell_type": "code",
   "execution_count": 42,
   "id": "4a7c4cfd",
   "metadata": {},
   "outputs": [],
   "source": [
    "link_stack = Stack()"
   ]
  },
  {
   "cell_type": "code",
   "execution_count": 43,
   "id": "aeaab7d2",
   "metadata": {},
   "outputs": [
    {
     "data": {
      "text/plain": [
       "'inserted'"
      ]
     },
     "execution_count": 43,
     "metadata": {},
     "output_type": "execute_result"
    }
   ],
   "source": [
    "link_stack.insert_data_last(98)"
   ]
  },
  {
   "cell_type": "code",
   "execution_count": 44,
   "id": "6be7b8db",
   "metadata": {},
   "outputs": [],
   "source": [
    "link_stack.insert_data_last(45)\n",
    "link_stack.insert_data_last(55)\n",
    "link_stack.insert_data_last(65)"
   ]
  },
  {
   "cell_type": "code",
   "execution_count": 45,
   "id": "848283c9",
   "metadata": {},
   "outputs": [
    {
     "name": "stdout",
     "output_type": "stream",
     "text": [
      "98->45->55->65->"
     ]
    }
   ],
   "source": [
    "link_stack.printing_data()"
   ]
  },
  {
   "cell_type": "code",
   "execution_count": 46,
   "id": "49211b2a",
   "metadata": {},
   "outputs": [
    {
     "data": {
      "text/plain": [
       "4"
      ]
     },
     "execution_count": 46,
     "metadata": {},
     "output_type": "execute_result"
    }
   ],
   "source": [
    "link_stack.check_size()"
   ]
  },
  {
   "cell_type": "code",
   "execution_count": 47,
   "id": "8e49b109",
   "metadata": {},
   "outputs": [
    {
     "name": "stdout",
     "output_type": "stream",
     "text": [
      "45->55->65->"
     ]
    }
   ],
   "source": [
    "link_stack.remove_first()"
   ]
  },
  {
   "cell_type": "code",
   "execution_count": 48,
   "id": "5a2de216",
   "metadata": {},
   "outputs": [
    {
     "data": {
      "text/plain": [
       "'First element: 45'"
      ]
     },
     "execution_count": 48,
     "metadata": {},
     "output_type": "execute_result"
    }
   ],
   "source": [
    "link_stack.first_element()"
   ]
  },
  {
   "cell_type": "code",
   "execution_count": null,
   "id": "58457e55",
   "metadata": {},
   "outputs": [],
   "source": []
  }
 ],
 "metadata": {
  "kernelspec": {
   "display_name": "base",
   "language": "python",
   "name": "python3"
  },
  "language_info": {
   "codemirror_mode": {
    "name": "ipython",
    "version": 3
   },
   "file_extension": ".py",
   "mimetype": "text/x-python",
   "name": "python",
   "nbconvert_exporter": "python",
   "pygments_lexer": "ipython3",
   "version": "3.12.7"
  }
 },
 "nbformat": 4,
 "nbformat_minor": 5
}

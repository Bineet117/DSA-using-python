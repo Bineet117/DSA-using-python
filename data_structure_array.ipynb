{
  "nbformat": 4,
  "nbformat_minor": 0,
  "metadata": {
    "colab": {
      "provenance": [],
      "authorship_tag": "ABX9TyMeg/taNBZAsgJCKY03YfHN",
      "include_colab_link": true
    },
    "kernelspec": {
      "name": "python3",
      "display_name": "Python 3"
    },
    "language_info": {
      "name": "python"
    }
  },
  "cells": [
    {
      "cell_type": "markdown",
      "metadata": {
        "id": "view-in-github",
        "colab_type": "text"
      },
      "source": [
        "<a href=\"https://colab.research.google.com/github/Bineet117/DSA-using-python/blob/main/data_structure_array.ipynb\" target=\"_parent\"><img src=\"https://colab.research.google.com/assets/colab-badge.svg\" alt=\"Open In Colab\"/></a>"
      ]
    },
    {
      "cell_type": "markdown",
      "source": [
        "## data structure\n",
        "- create list\n",
        "- find length\n",
        "- append\n",
        "- print\n",
        "- indexing\n",
        "- pop\n",
        "- clear\n",
        "- find\n",
        "- insert\n",
        "- delete\n",
        "- remove\n"
      ],
      "metadata": {
        "id": "cMtc1JnMTjAs"
      }
    },
    {
      "cell_type": "markdown",
      "source": [
        "### Array"
      ],
      "metadata": {
        "id": "QIeAF637UZkD"
      }
    },
    {
      "cell_type": "code",
      "source": [
        "import ctypes"
      ],
      "metadata": {
        "id": "jrLKdopITgoQ"
      },
      "execution_count": 1,
      "outputs": []
    },
    {
      "cell_type": "code",
      "execution_count": 5,
      "metadata": {
        "id": "HR1FUwstTf-u"
      },
      "outputs": [],
      "source": [
        "class MeraList:\n",
        "  def __init__(self):\n",
        "    self.size = 1\n",
        "    self.n = 0\n",
        "    # create a C type array with size = self.size\n",
        "    self.A = self.create_array(self.size)\n",
        "\n",
        "  # creating array\n",
        "  def create_array(self,capacity):\n",
        "    # creates a C type array (static , referntial with xize capcity)\n",
        "    return (capacity*ctypes.py_object)()\n",
        "\n",
        "  # finding length using normal method\n",
        "  def find_length(self):\n",
        "    return self.n\n",
        "\n",
        "  # finding length using magic method or dunder method\n",
        "  def __len__(self):\n",
        "    return self.n\n",
        "\n",
        "  # method to append values\n",
        "  def append(self, value):\n",
        "    if self.n == self.size:\n",
        "      self.size = self.size*2\n",
        "      B = self.create_array(self.size)\n",
        "      for i in range(self.n):\n",
        "        B[i] = self.A[i]\n",
        "      self.A = B\n",
        "    self.A[self.n] = value\n",
        "    self.n = self.n + 1\n",
        "\n",
        "  # indexing fea ture\n",
        "  # def __str__(self):\n"
      ]
    },
    {
      "cell_type": "code",
      "source": [
        "L = MeraList()"
      ],
      "metadata": {
        "id": "tSpUjki8IMNH"
      },
      "execution_count": 6,
      "outputs": []
    },
    {
      "cell_type": "code",
      "source": [
        "L.append(\"he\")"
      ],
      "metadata": {
        "id": "NPD1VDeTBXL7"
      },
      "execution_count": 7,
      "outputs": []
    },
    {
      "cell_type": "code",
      "source": [
        "L.find_length()"
      ],
      "metadata": {
        "colab": {
          "base_uri": "https://localhost:8080/"
        },
        "id": "NpZJIWHdBhDj",
        "outputId": "66d1b572-f8b6-454a-cf6e-b8fa430f4a84"
      },
      "execution_count": 8,
      "outputs": [
        {
          "output_type": "execute_result",
          "data": {
            "text/plain": [
              "1"
            ]
          },
          "metadata": {},
          "execution_count": 8
        }
      ]
    },
    {
      "cell_type": "code",
      "source": [
        "L.A"
      ],
      "metadata": {
        "colab": {
          "base_uri": "https://localhost:8080/"
        },
        "id": "rAOZ_BYCBs6m",
        "outputId": "f0c092ac-485b-4c8f-eaba-a99821ebd774"
      },
      "execution_count": 9,
      "outputs": [
        {
          "output_type": "execute_result",
          "data": {
            "text/plain": [
              "<__main__.py_object_Array_1 at 0x7e3c7145fa40>"
            ]
          },
          "metadata": {},
          "execution_count": 9
        }
      ]
    },
    {
      "cell_type": "code",
      "source": [
        "print(L.A)"
      ],
      "metadata": {
        "colab": {
          "base_uri": "https://localhost:8080/"
        },
        "id": "uLnr0m4MDJiC",
        "outputId": "178e2689-c0c2-456c-a06d-82246e918768"
      },
      "execution_count": 10,
      "outputs": [
        {
          "output_type": "stream",
          "name": "stdout",
          "text": [
            "<__main__.py_object_Array_1 object at 0x7e3c7145fa40>\n"
          ]
        }
      ]
    },
    {
      "cell_type": "code",
      "source": [
        "# hello my name is bineet kumar gupta"
      ],
      "metadata": {
        "id": "ZodXz9WsG0uY"
      },
      "execution_count": 10,
      "outputs": []
    }
  ]
}
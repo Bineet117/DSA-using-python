{
 "cells": [
  {
   "cell_type": "markdown",
   "id": "84fe42a3",
   "metadata": {},
   "source": [
    "\n",
    "\n",
    "## Stack\n",
    "\n",
    "* It is a **linear data structure**.\n",
    "\n",
    "* It follows **LIFO (Last In, First Out)** principle.\n",
    "\n",
    "* **Examples**:\n",
    "\n",
    "  * Pringles chips can\n",
    "  * Bread packet\n",
    "  * Stack of plates\n",
    "\n",
    "* **Abstract Data Type** – An abstract data type (ADT) is a model for data structures where the implementation is hidden, and only operations (like push, pop) are exposed.\n",
    "\n",
    "* **Operations**:\n",
    "\n",
    "  * **Peek / Top** – Check the last element (top of the stack; the last item added).\n",
    "  * **Push** – Add an element to the top of the stack.\n",
    "  * **Pop** – Remove the top (last added) element.\n",
    "  * **Display / View** – View all elements in the stack.\n",
    "  * **Size** – Return the number of elements in the stack.\n",
    "  * **isEmpty** – Check if the stack is empty or not.\n",
    "\n"
   ]
  },
  {
   "cell_type": "markdown",
   "id": "5c7d639a",
   "metadata": {},
   "source": [
    "___"
   ]
  },
  {
   "cell_type": "markdown",
   "id": "0a6456a2",
   "metadata": {},
   "source": [
    "#### 1. Implementation of stack operation using array/list"
   ]
  },
  {
   "cell_type": "code",
   "execution_count": 6,
   "id": "ab436a73",
   "metadata": {},
   "outputs": [],
   "source": [
    "class stackUsingList:\n",
    "    def __init__(self):\n",
    "        self.__stack = [1,2,3,4,5]\n",
    "\n",
    "    def insert_data_into_stack(self,data):\n",
    "        self.__stack.append(data)\n",
    "        return \"element added to stack\"\n",
    "\n",
    "    def view_last_element(self):\n",
    "        if len(self.__stack) == 0:\n",
    "            return \"Empty Stack\"\n",
    "        return self.__stack[-1]\n",
    "    \n",
    "    def removing_element(self):\n",
    "        self.__stack.pop()\n",
    "        return \"removed last element\"\n",
    "    \n",
    "    def size_of_stack(self):\n",
    "        return f\"Size of stack: {len(self.__stack)}\""
   ]
  },
  {
   "cell_type": "code",
   "execution_count": 13,
   "id": "89cd2b46",
   "metadata": {},
   "outputs": [
    {
     "data": {
      "text/plain": [
       "5"
      ]
     },
     "execution_count": 13,
     "metadata": {},
     "output_type": "execute_result"
    }
   ],
   "source": [
    "a = stackUsingList()\n",
    "a.view_last_element()"
   ]
  },
  {
   "cell_type": "code",
   "execution_count": 14,
   "id": "86ec233a",
   "metadata": {},
   "outputs": [
    {
     "data": {
      "text/plain": [
       "'Size of stack: 5'"
      ]
     },
     "execution_count": 14,
     "metadata": {},
     "output_type": "execute_result"
    }
   ],
   "source": [
    "a.size_of_stack()"
   ]
  },
  {
   "cell_type": "code",
   "execution_count": 15,
   "id": "6e363a37",
   "metadata": {},
   "outputs": [
    {
     "data": {
      "text/plain": [
       "'element added to stack'"
      ]
     },
     "execution_count": 15,
     "metadata": {},
     "output_type": "execute_result"
    }
   ],
   "source": [
    "a.insert_data_into_stack(90)"
   ]
  },
  {
   "cell_type": "code",
   "execution_count": 16,
   "id": "80bc2a60",
   "metadata": {},
   "outputs": [
    {
     "data": {
      "text/plain": [
       "90"
      ]
     },
     "execution_count": 16,
     "metadata": {},
     "output_type": "execute_result"
    }
   ],
   "source": [
    "a.view_last_element()"
   ]
  },
  {
   "cell_type": "code",
   "execution_count": 17,
   "id": "87d97d0d",
   "metadata": {},
   "outputs": [
    {
     "data": {
      "text/plain": [
       "'removed last element'"
      ]
     },
     "execution_count": 17,
     "metadata": {},
     "output_type": "execute_result"
    }
   ],
   "source": [
    "a.removing_element()"
   ]
  },
  {
   "cell_type": "code",
   "execution_count": 18,
   "id": "aa3bb573",
   "metadata": {},
   "outputs": [
    {
     "data": {
      "text/plain": [
       "5"
      ]
     },
     "execution_count": 18,
     "metadata": {},
     "output_type": "execute_result"
    }
   ],
   "source": [
    "a.view_last_element()"
   ]
  },
  {
   "cell_type": "markdown",
   "id": "b901dd81",
   "metadata": {},
   "source": [
    "#### 2. Implementation of stack operation using LinkedList"
   ]
  },
  {
   "cell_type": "code",
   "execution_count": 31,
   "id": "2574eb5e",
   "metadata": {},
   "outputs": [],
   "source": [
    "class Node():\n",
    "    def __init__(self, data):  \n",
    "        self.data = data\n",
    "        self.next = None\n",
    "\n",
    "class Stack():\n",
    "    def __init__(self):\n",
    "        self.head = None\n",
    "\n",
    "    def insert_data(self, data):\n",
    "        node = Node(data)\n",
    "        node.next = self.head\n",
    "        self.head = node\n",
    "\n",
    "    def check_size(self):\n",
    "        temp = self.head\n",
    "        count = 0\n",
    "        while temp != None:\n",
    "            temp = temp.next\n",
    "            count= count+1\n",
    "        return count\n",
    "    \n",
    "    def check_last_element(self):\n",
    "        return self.head.data"
   ]
  },
  {
   "cell_type": "code",
   "execution_count": 32,
   "id": "ba4150de",
   "metadata": {},
   "outputs": [],
   "source": [
    "stack = Stack()\n",
    "\n",
    "stack.insert_data(2)\n",
    "stack.insert_data(5)\n",
    "stack.insert_data(7)\n",
    "stack.insert_data(9)"
   ]
  },
  {
   "cell_type": "code",
   "execution_count": 33,
   "id": "f2b31333",
   "metadata": {},
   "outputs": [
    {
     "data": {
      "text/plain": [
       "4"
      ]
     },
     "execution_count": 33,
     "metadata": {},
     "output_type": "execute_result"
    }
   ],
   "source": [
    "stack.check_size()"
   ]
  },
  {
   "cell_type": "code",
   "execution_count": 34,
   "id": "67e9c4fd",
   "metadata": {},
   "outputs": [
    {
     "data": {
      "text/plain": [
       "9"
      ]
     },
     "execution_count": 34,
     "metadata": {},
     "output_type": "execute_result"
    }
   ],
   "source": [
    "stack.check_last_element()"
   ]
  },
  {
   "cell_type": "code",
   "execution_count": null,
   "id": "9e97dfc9",
   "metadata": {},
   "outputs": [],
   "source": []
  }
 ],
 "metadata": {
  "kernelspec": {
   "display_name": "base",
   "language": "python",
   "name": "python3"
  },
  "language_info": {
   "codemirror_mode": {
    "name": "ipython",
    "version": 3
   },
   "file_extension": ".py",
   "mimetype": "text/x-python",
   "name": "python",
   "nbconvert_exporter": "python",
   "pygments_lexer": "ipython3",
   "version": "3.12.7"
  }
 },
 "nbformat": 4,
 "nbformat_minor": 5
}

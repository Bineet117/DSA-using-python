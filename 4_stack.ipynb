{
 "cells": [
  {
   "cell_type": "markdown",
   "id": "84fe42a3",
   "metadata": {},
   "source": [
    "## Stack \n",
    "- It is a linear data structure\n",
    "- It is LIFO (last in first out)\n",
    "- **Example**: \n",
    "    - pringle chips\n",
    "    - bread packet\n",
    "    - stack of plates\n",
    "- **Abstract data type** - Abstract data type is a type for objects whose behavior is defined by set of operation as abstract, no knowledge about how they are performed.\n",
    "- **operation** : \n",
    "    - check the last element (last means the top : top chips of pringle is last added chips)\n",
    "    - add from last \n",
    "    - pop (removing last element )\n",
    "    - view the stack \n",
    "    - size of the stack \n",
    "    - empty (if our stack empty or not)"
   ]
  },
  {
   "cell_type": "markdown",
   "id": "5c7d639a",
   "metadata": {},
   "source": [
    "___"
   ]
  },
  {
   "cell_type": "markdown",
   "id": "0a6456a2",
   "metadata": {},
   "source": [
    "#### 1. Implementation of stack operation using array/list"
   ]
  },
  {
   "cell_type": "code",
   "execution_count": 6,
   "id": "ab436a73",
   "metadata": {},
   "outputs": [],
   "source": [
    "class stackUsingList:\n",
    "    def __init__(self):\n",
    "        self.__stack = [1,2,3,4,5]\n",
    "\n",
    "    def insert_data_into_stack(self,data):\n",
    "        self.__stack.append(data)\n",
    "        return \"element added to stack\"\n",
    "\n",
    "    def view_last_element(self):\n",
    "        if len(self.__stack) == 0:\n",
    "            return \"Empty Stack\"\n",
    "        return self.__stack[-1]\n",
    "    \n",
    "    def removing_element(self):\n",
    "        self.__stack.pop()\n",
    "        return \"removed last element\"\n",
    "    \n",
    "    def size_of_stack(self):\n",
    "        return f\"Size of stack: {len(self.__stack)}\""
   ]
  },
  {
   "cell_type": "code",
   "execution_count": 13,
   "id": "89cd2b46",
   "metadata": {},
   "outputs": [
    {
     "data": {
      "text/plain": [
       "5"
      ]
     },
     "execution_count": 13,
     "metadata": {},
     "output_type": "execute_result"
    }
   ],
   "source": [
    "a = stackUsingList()\n",
    "a.view_last_element()"
   ]
  },
  {
   "cell_type": "code",
   "execution_count": 14,
   "id": "86ec233a",
   "metadata": {},
   "outputs": [
    {
     "data": {
      "text/plain": [
       "'Size of stack: 5'"
      ]
     },
     "execution_count": 14,
     "metadata": {},
     "output_type": "execute_result"
    }
   ],
   "source": [
    "a.size_of_stack()"
   ]
  },
  {
   "cell_type": "code",
   "execution_count": 15,
   "id": "6e363a37",
   "metadata": {},
   "outputs": [
    {
     "data": {
      "text/plain": [
       "'element added to stack'"
      ]
     },
     "execution_count": 15,
     "metadata": {},
     "output_type": "execute_result"
    }
   ],
   "source": [
    "a.insert_data_into_stack(90)"
   ]
  },
  {
   "cell_type": "code",
   "execution_count": 16,
   "id": "80bc2a60",
   "metadata": {},
   "outputs": [
    {
     "data": {
      "text/plain": [
       "90"
      ]
     },
     "execution_count": 16,
     "metadata": {},
     "output_type": "execute_result"
    }
   ],
   "source": [
    "a.view_last_element()"
   ]
  },
  {
   "cell_type": "code",
   "execution_count": 17,
   "id": "87d97d0d",
   "metadata": {},
   "outputs": [
    {
     "data": {
      "text/plain": [
       "'removed last element'"
      ]
     },
     "execution_count": 17,
     "metadata": {},
     "output_type": "execute_result"
    }
   ],
   "source": [
    "a.removing_element()"
   ]
  },
  {
   "cell_type": "code",
   "execution_count": 18,
   "id": "aa3bb573",
   "metadata": {},
   "outputs": [
    {
     "data": {
      "text/plain": [
       "5"
      ]
     },
     "execution_count": 18,
     "metadata": {},
     "output_type": "execute_result"
    }
   ],
   "source": [
    "a.view_last_element()"
   ]
  },
  {
   "cell_type": "markdown",
   "id": "b901dd81",
   "metadata": {},
   "source": [
    "#### 2. Implementation of stack operation using LinkedList"
   ]
  },
  {
   "cell_type": "code",
   "execution_count": null,
   "id": "2574eb5e",
   "metadata": {},
   "outputs": [],
   "source": [
    "class Node():\n",
    "    def __init__(self, data):  \n",
    "        self.head = data\n",
    "        self.next = None\n",
    "\n",
    "class Stack():\n",
    "    def __init__(self):\n",
    "        self.head = None\n",
    "\n",
    "    def insert_data(self, data):\n",
    "        node = Node(data)\n",
    "        \n"
   ]
  }
 ],
 "metadata": {
  "kernelspec": {
   "display_name": "base",
   "language": "python",
   "name": "python3"
  },
  "language_info": {
   "codemirror_mode": {
    "name": "ipython",
    "version": 3
   },
   "file_extension": ".py",
   "mimetype": "text/x-python",
   "name": "python",
   "nbconvert_exporter": "python",
   "pygments_lexer": "ipython3",
   "version": "3.12.7"
  }
 },
 "nbformat": 4,
 "nbformat_minor": 5
}

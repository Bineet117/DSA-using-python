{
 "cells": [
  {
   "cell_type": "code",
   "execution_count": 3,
   "id": "30f4df48",
   "metadata": {},
   "outputs": [
    {
     "name": "stdout",
     "output_type": "stream",
     "text": [
      "0\n",
      "the count is 1\n"
     ]
    }
   ],
   "source": [
    "a = 3\n",
    "\n",
    "b = 0\n",
    "while a > 0:\n",
    "    a = a//10\n",
    "    print(a)\n",
    "    b = b+1\n",
    "\n",
    "print(f\"the count is {b}\")"
   ]
  },
  {
   "cell_type": "code",
   "execution_count": null,
   "id": "b36e8023",
   "metadata": {},
   "outputs": [],
   "source": []
  }
 ],
 "metadata": {
  "kernelspec": {
   "display_name": "base",
   "language": "python",
   "name": "python3"
  },
  "language_info": {
   "codemirror_mode": {
    "name": "ipython",
    "version": 3
   },
   "file_extension": ".py",
   "mimetype": "text/x-python",
   "name": "python",
   "nbconvert_exporter": "python",
   "pygments_lexer": "ipython3",
   "version": "3.12.7"
  }
 },
 "nbformat": 4,
 "nbformat_minor": 5
}

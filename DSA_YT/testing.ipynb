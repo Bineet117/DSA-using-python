{
 "cells": [
  {
   "cell_type": "code",
   "execution_count": 6,
   "id": "30f4df48",
   "metadata": {},
   "outputs": [
    {
     "name": "stdout",
     "output_type": "stream",
     "text": [
      "the count is 5\n"
     ]
    }
   ],
   "source": [
    "a = 32345\n",
    "\n",
    "b = 0\n",
    "while a > 0:\n",
    "    b = b+1\n",
    "    a = a//10\n",
    "    # print(a)\n",
    "    # b = b+1\n",
    "\n",
    "print(f\"the count is {b}\")"
   ]
  },
  {
   "cell_type": "code",
   "execution_count": 1,
   "id": "31cda601",
   "metadata": {},
   "outputs": [],
   "source": [
    "from logger_config import logger\n",
    "import math\n",
    "\n",
    "a = 3456797986\n"
   ]
  },
  {
   "cell_type": "code",
   "execution_count": 2,
   "id": "b36e8023",
   "metadata": {},
   "outputs": [
    {
     "name": "stdout",
     "output_type": "stream",
     "text": [
      "10.0\n"
     ]
    }
   ],
   "source": [
    "print(int(math.log10(a)) + 1.0)"
   ]
  },
  {
   "cell_type": "code",
   "execution_count": 12,
   "id": "fef6970b",
   "metadata": {},
   "outputs": [
    {
     "name": "stdout",
     "output_type": "stream",
     "text": [
      "oero fo r\n"
     ]
    }
   ],
   "source": [
    "a = \"dog is the mother of oreo\"\n",
    "print(a[-1:-10:-1])"
   ]
  },
  {
   "cell_type": "code",
   "execution_count": 6,
   "id": "5e9676e5",
   "metadata": {},
   "outputs": [
    {
     "name": "stdout",
     "output_type": "stream",
     "text": [
      "{1: 3, 2: 4, 3: 2, 4: 2, 5: 2, 6: 2, 43: 1}\n"
     ]
    }
   ],
   "source": [
    "d = {}\n",
    "lt = [1,2,2,3,3,4,4,5,5,6,6,43,2,2,1,1]\n",
    "for i in lt:\n",
    "    if i in d:\n",
    "        d[i] = d[i] + 1\n",
    "    else:\n",
    "        d[i] = 1\n",
    "print(d)"
   ]
  },
  {
   "cell_type": "code",
   "execution_count": null,
   "id": "3a5cd095",
   "metadata": {},
   "outputs": [
    {
     "name": "stdout",
     "output_type": "stream",
     "text": [
      "bunny\n"
     ]
    }
   ],
   "source": []
  },
  {
   "cell_type": "code",
   "execution_count": 2,
   "id": "e08c8b42",
   "metadata": {},
   "outputs": [
    {
     "name": "stdout",
     "output_type": "stream",
     "text": [
      "[1, 2, 7, 6, 5, 4, 3, 8, 9, 10, 12]\n"
     ]
    }
   ],
   "source": [
    "lt = [1,2,3,4,5,6,7,8,9,10,12]\n",
    "\n",
    "fir_ind = 2\n",
    "ls_ind = 6\n",
    "\n",
    "def reverse_data(lt, fir_ind, ls_ind):\n",
    "    if fir_ind >= ls_ind:\n",
    "        return \n",
    "    lt[fir_ind], lt[ls_ind] = lt[ls_ind], lt[fir_ind]\n",
    "    reverse_data(lt, fir_ind+1, ls_ind-1)\n",
    "\n",
    "reverse_data(lt, fir_ind, ls_ind)\n",
    "print(lt)"
   ]
  },
  {
   "cell_type": "code",
   "execution_count": null,
   "id": "9a14174b",
   "metadata": {},
   "outputs": [],
   "source": []
  }
 ],
 "metadata": {
  "kernelspec": {
   "display_name": "base",
   "language": "python",
   "name": "python3"
  },
  "language_info": {
   "codemirror_mode": {
    "name": "ipython",
    "version": 3
   },
   "file_extension": ".py",
   "mimetype": "text/x-python",
   "name": "python",
   "nbconvert_exporter": "python",
   "pygments_lexer": "ipython3",
   "version": "3.12.7"
  }
 },
 "nbformat": 4,
 "nbformat_minor": 5
}

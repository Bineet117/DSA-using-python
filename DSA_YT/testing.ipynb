{
 "cells": [
  {
   "cell_type": "code",
   "execution_count": 6,
   "id": "30f4df48",
   "metadata": {},
   "outputs": [
    {
     "name": "stdout",
     "output_type": "stream",
     "text": [
      "the count is 5\n"
     ]
    }
   ],
   "source": [
    "a = 32345\n",
    "\n",
    "b = 0\n",
    "while a > 0:\n",
    "    b = b+1\n",
    "    a = a//10\n",
    "    # print(a)\n",
    "    # b = b+1\n",
    "\n",
    "print(f\"the count is {b}\")"
   ]
  },
  {
   "cell_type": "code",
   "execution_count": 1,
   "id": "31cda601",
   "metadata": {},
   "outputs": [],
   "source": [
    "from logger_config import logger\n",
    "import math\n",
    "\n",
    "a = 3456797986\n"
   ]
  },
  {
   "cell_type": "code",
   "execution_count": 2,
   "id": "b36e8023",
   "metadata": {},
   "outputs": [
    {
     "name": "stdout",
     "output_type": "stream",
     "text": [
      "10.0\n"
     ]
    }
   ],
   "source": [
    "print(int(math.log10(a)) + 1.0)"
   ]
  },
  {
   "cell_type": "code",
   "execution_count": 12,
   "id": "fef6970b",
   "metadata": {},
   "outputs": [
    {
     "name": "stdout",
     "output_type": "stream",
     "text": [
      "oero fo r\n"
     ]
    }
   ],
   "source": [
    "a = \"dog is the mother of oreo\"\n",
    "print(a[-1:-10:-1])"
   ]
  },
  {
   "cell_type": "code",
   "execution_count": null,
   "id": "5e9676e5",
   "metadata": {},
   "outputs": [],
   "source": []
  }
 ],
 "metadata": {
  "kernelspec": {
   "display_name": "base",
   "language": "python",
   "name": "python3"
  },
  "language_info": {
   "codemirror_mode": {
    "name": "ipython",
    "version": 3
   },
   "file_extension": ".py",
   "mimetype": "text/x-python",
   "name": "python",
   "nbconvert_exporter": "python",
   "pygments_lexer": "ipython3",
   "version": "3.12.7"
  }
 },
 "nbformat": 4,
 "nbformat_minor": 5
}

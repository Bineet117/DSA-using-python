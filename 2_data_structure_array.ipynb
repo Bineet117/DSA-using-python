{
  "nbformat": 4,
  "nbformat_minor": 0,
  "metadata": {
    "colab": {
      "provenance": [],
      "authorship_tag": "ABX9TyOkYNj7EcH4AzISpQ33PyFk",
      "include_colab_link": true
    },
    "kernelspec": {
      "name": "python3",
      "display_name": "Python 3"
    },
    "language_info": {
      "name": "python"
    }
  },
  "cells": [
    {
      "cell_type": "markdown",
      "metadata": {
        "id": "view-in-github",
        "colab_type": "text"
      },
      "source": [
        "<a href=\"https://colab.research.google.com/github/Bineet117/DSA-using-python/blob/main/data_structure_array.ipynb\" target=\"_parent\"><img src=\"https://colab.research.google.com/assets/colab-badge.svg\" alt=\"Open In Colab\"/></a>"
      ]
    },
    {
      "cell_type": "markdown",
      "source": [
        "## data structure\n",
        "- create list\n",
        "- find length\n",
        "- append\n",
        "- print\n",
        "- indexing\n",
        "- pop\n",
        "- clear\n",
        "- find\n",
        "- insert\n",
        "- delete\n",
        "- remove\n"
      ],
      "metadata": {
        "id": "cMtc1JnMTjAs"
      }
    },
    {
      "cell_type": "markdown",
      "source": [
        "### Array"
      ],
      "metadata": {
        "id": "QIeAF637UZkD"
      }
    },
    {
      "cell_type": "code",
      "source": [
        "import ctypes"
      ],
      "metadata": {
        "id": "jrLKdopITgoQ"
      },
      "execution_count": 4,
      "outputs": []
    },
    {
      "cell_type": "code",
      "execution_count": 86,
      "metadata": {
        "id": "HR1FUwstTf-u"
      },
      "outputs": [],
      "source": [
        "class MeraList:\n",
        "  def __init__(self):\n",
        "    self.size = 1\n",
        "    self.n = 0\n",
        "    # create a C type array with size = self.size\n",
        "    self.A = self.create_array(self.size)\n",
        "\n",
        "  # creating array\n",
        "  def create_array(self,capacity):\n",
        "    # creates a C type array (static , referential with xize capacity)\n",
        "    return (capacity*ctypes.py_object)()\n",
        "\n",
        "  # finding length using normal method\n",
        "  def find_length(self):\n",
        "    return self.n\n",
        "\n",
        "  # finding length using magic method or dunder method\n",
        "  def __len__(self):\n",
        "    return self.n\n",
        "\n",
        "  # printing the DATA\n",
        "  def data(self):\n",
        "    data = \"\"\n",
        "    for i in range(self.n):\n",
        "      data = data + str(self.A[i]) + \",\"\n",
        "    return \"[\" + data[:-1] + \"]\"\n",
        "\n",
        "  # method to append values\n",
        "  def append(self, value):\n",
        "        if self.n == self.size:\n",
        "            self.copy()\n",
        "        self.A[self.n] = value\n",
        "        self.n += 1\n",
        "\n",
        "  def copy(self):\n",
        "        self.size *= 2\n",
        "        B = self.create_array(self.size)\n",
        "        for i in range(self.n):\n",
        "            B[i] = self.A[i]\n",
        "        self.A = B\n",
        "\n",
        "  # indexing feature\n",
        "  def print_data(self, index_number):\n",
        "    return self.A[index_number]\n",
        "\n",
        "  # pop method\n",
        "  def pop(self):\n",
        "    print(self.A[-1])\n",
        "    self.n = self.n -1\n",
        "\n",
        "  # clear method\n",
        "  def clear(self):\n",
        "    self.size = 1\n",
        "    self.n = 0\n",
        "\n",
        "  # find a element\n",
        "  def find(self, value):\n",
        "    for i in range(self.n):\n",
        "      if value == self.A[i]:\n",
        "        print(i)\n",
        "\n",
        "  # insert items in the list\n",
        "  def insert(self, index, value):\n",
        "      if self.n == self.size:\n",
        "          self.copy()\n",
        "      for i in range(self.n, index, -1):\n",
        "          self.A[i] = self.A[i - 1]\n",
        "      self.A[index] = value\n",
        "      self.n += 1\n",
        "\n",
        "\n",
        "\n",
        "\n",
        "\n",
        "\n",
        "\n"
      ]
    },
    {
      "cell_type": "code",
      "source": [
        "L = MeraList()"
      ],
      "metadata": {
        "id": "tSpUjki8IMNH"
      },
      "execution_count": 87,
      "outputs": []
    },
    {
      "cell_type": "code",
      "source": [
        "L.append(\"bunny\")\n",
        "L.append(\"tina\")\n",
        "L.append(\"praj\")\n",
        "L.append(\"tunu\")"
      ],
      "metadata": {
        "id": "NPD1VDeTBXL7"
      },
      "execution_count": 88,
      "outputs": []
    },
    {
      "cell_type": "code",
      "source": [
        "L.data()"
      ],
      "metadata": {
        "colab": {
          "base_uri": "https://localhost:8080/",
          "height": 36
        },
        "id": "NpZJIWHdBhDj",
        "outputId": "ee0b47a2-9e6b-4009-ce2b-073b53dab838"
      },
      "execution_count": 93,
      "outputs": [
        {
          "output_type": "execute_result",
          "data": {
            "text/plain": [
              "'[bunny,prassana,tina,praj,tunu]'"
            ],
            "application/vnd.google.colaboratory.intrinsic+json": {
              "type": "string"
            }
          },
          "metadata": {},
          "execution_count": 93
        }
      ]
    },
    {
      "cell_type": "code",
      "source": [
        "L.find(\"bunny\")"
      ],
      "metadata": {
        "colab": {
          "base_uri": "https://localhost:8080/"
        },
        "id": "rAOZ_BYCBs6m",
        "outputId": "7b1d5c8d-715d-453e-db1f-ef5989855383"
      },
      "execution_count": 90,
      "outputs": [
        {
          "output_type": "stream",
          "name": "stdout",
          "text": [
            "0\n"
          ]
        }
      ]
    },
    {
      "cell_type": "code",
      "source": [
        "L.print_data(1)"
      ],
      "metadata": {
        "colab": {
          "base_uri": "https://localhost:8080/",
          "height": 36
        },
        "id": "uLnr0m4MDJiC",
        "outputId": "01be5b06-2334-49dc-8cd5-02e61654a9ff"
      },
      "execution_count": 91,
      "outputs": [
        {
          "output_type": "execute_result",
          "data": {
            "text/plain": [
              "'tina'"
            ],
            "application/vnd.google.colaboratory.intrinsic+json": {
              "type": "string"
            }
          },
          "metadata": {},
          "execution_count": 91
        }
      ]
    },
    {
      "cell_type": "code",
      "source": [
        "L.insert(1, \"prassana\")"
      ],
      "metadata": {
        "id": "6iDTnLOHUVvD"
      },
      "execution_count": 92,
      "outputs": []
    },
    {
      "cell_type": "code",
      "source": [
        "L.pop()"
      ],
      "metadata": {
        "id": "ZodXz9WsG0uY",
        "colab": {
          "base_uri": "https://localhost:8080/"
        },
        "outputId": "4a4f8e45-e97e-42d2-a73a-3d25fcbbf70b"
      },
      "execution_count": 26,
      "outputs": [
        {
          "output_type": "stream",
          "name": "stdout",
          "text": [
            "tina\n"
          ]
        }
      ]
    },
    {
      "cell_type": "code",
      "source": [
        "L.data()"
      ],
      "metadata": {
        "colab": {
          "base_uri": "https://localhost:8080/",
          "height": 36
        },
        "id": "27Hxwy5-MonP",
        "outputId": "f32d0db4-e54b-4313-8bee-e601c4d37c86"
      },
      "execution_count": 27,
      "outputs": [
        {
          "output_type": "execute_result",
          "data": {
            "text/plain": [
              "'[bunny,tina,bunny]'"
            ],
            "application/vnd.google.colaboratory.intrinsic+json": {
              "type": "string"
            }
          },
          "metadata": {},
          "execution_count": 27
        }
      ]
    },
    {
      "cell_type": "code",
      "source": [
        "a= [1,2,3,4,5,6]\n",
        "len(a)"
      ],
      "metadata": {
        "colab": {
          "base_uri": "https://localhost:8080/"
        },
        "id": "9Yh5iDmOIhnz",
        "outputId": "e1b134e1-5df9-45cc-de2f-fc715de4cdb6"
      },
      "execution_count": 34,
      "outputs": [
        {
          "output_type": "execute_result",
          "data": {
            "text/plain": [
              "6"
            ]
          },
          "metadata": {},
          "execution_count": 34
        }
      ]
    },
    {
      "cell_type": "code",
      "source": [
        "for i in range(len(a)-1,-1, -1):\n",
        "  print(a[i])"
      ],
      "metadata": {
        "colab": {
          "base_uri": "https://localhost:8080/"
        },
        "id": "8kW9_WD7r0rZ",
        "outputId": "010f8ebf-788b-488a-db03-7f9fee8a9ee5"
      },
      "execution_count": 40,
      "outputs": [
        {
          "output_type": "stream",
          "name": "stdout",
          "text": [
            "6\n",
            "5\n",
            "4\n",
            "3\n",
            "2\n",
            "1\n"
          ]
        }
      ]
    },
    {
      "cell_type": "code",
      "source": [],
      "metadata": {
        "id": "kdT46oGYIdRz"
      },
      "execution_count": null,
      "outputs": []
    }
  ]
}
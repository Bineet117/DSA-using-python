{
 "cells": [
  {
   "cell_type": "markdown",
   "id": "63a1f79f",
   "metadata": {},
   "source": [
    "## generic tree"
   ]
  },
  {
   "cell_type": "code",
   "execution_count": 7,
   "id": "82aef843",
   "metadata": {},
   "outputs": [
    {
     "name": "stdout",
     "output_type": "stream",
     "text": [
      "1:2,3,4,5,\n",
      "2:\n",
      "3:\n",
      "4:\n",
      "5:\n"
     ]
    }
   ],
   "source": [
    "class RootNode():\n",
    "\n",
    "    def __init__(self, data):\n",
    "        self.data = data\n",
    "        self.children = []\n",
    "\n",
    "\n",
    "root = RootNode(1)\n",
    "children1 = RootNode(2)\n",
    "children2 = RootNode(3)\n",
    "children3 = RootNode(4)\n",
    "children4 = RootNode(5)\n",
    "\n",
    "root.children.append(children1)\n",
    "root.children.append(children2)\n",
    "root.children.append(children3)\n",
    "root.children.append(children4)\n",
    "\n",
    "\n",
    "# printing tree \n",
    "def print_tree(root):\n",
    "    print(f\"{root.data}:\", end=\"\")\n",
    "    for eachchild in root.children:\n",
    "        print(eachchild.data, end=\",\")\n",
    "\n",
    "    print()\n",
    "\n",
    "    for children in root.children:\n",
    "        print_tree(children)\n",
    "\n",
    "print_tree(root)"
   ]
  },
  {
   "cell_type": "code",
   "execution_count": 2,
   "id": "6d134c27",
   "metadata": {},
   "outputs": [
    {
     "data": {
      "text/plain": [
       "[<__main__.RootNode at 0x18c59f61370>,\n",
       " <__main__.RootNode at 0x18c59f613a0>,\n",
       " <__main__.RootNode at 0x18c59f612e0>,\n",
       " <__main__.RootNode at 0x18c59f613d0>]"
      ]
     },
     "execution_count": 2,
     "metadata": {},
     "output_type": "execute_result"
    }
   ],
   "source": [
    "root.children"
   ]
  },
  {
   "cell_type": "code",
   "execution_count": 3,
   "id": "50dc80de",
   "metadata": {},
   "outputs": [
    {
     "data": {
      "text/plain": [
       "[]"
      ]
     },
     "execution_count": 3,
     "metadata": {},
     "output_type": "execute_result"
    }
   ],
   "source": [
    "children1.children"
   ]
  },
  {
   "cell_type": "code",
   "execution_count": null,
   "id": "f0b0d83c",
   "metadata": {},
   "outputs": [],
   "source": []
  }
 ],
 "metadata": {
  "kernelspec": {
   "display_name": "base",
   "language": "python",
   "name": "python3"
  },
  "language_info": {
   "codemirror_mode": {
    "name": "ipython",
    "version": 3
   },
   "file_extension": ".py",
   "mimetype": "text/x-python",
   "name": "python",
   "nbconvert_exporter": "python",
   "pygments_lexer": "ipython3",
   "version": "3.12.7"
  }
 },
 "nbformat": 4,
 "nbformat_minor": 5
}
